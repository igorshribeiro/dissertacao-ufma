{
 "cells": [
  {
   "cell_type": "markdown",
   "metadata": {},
   "source": [
    "# Notebook 1 - Explorando o GSM *Gemynocystis* sp. GBB08 criado com CarveMe "
   ]
  },
  {
   "cell_type": "markdown",
   "metadata": {},
   "source": [
    "### Apresentação do Notebook\n",
    "Neste notebook consta as intervenções no modelo da Geminocystis GBBB08 realizado pelo carveme.\n",
    "Aqui segue uma numeração que irá guiá-lo para as alterações realizadas. "
   ]
  },
  {
   "cell_type": "code",
   "execution_count": 2,
   "metadata": {},
   "outputs": [],
   "source": [
    "import cobra"
   ]
  },
  {
   "cell_type": "code",
   "execution_count": 3,
   "metadata": {},
   "outputs": [],
   "source": [
    "import pandas as pd"
   ]
  },
  {
   "cell_type": "markdown",
   "metadata": {},
   "source": [
    "## 1. Carregando modelo "
   ]
  },
  {
   "cell_type": "code",
   "execution_count": 4,
   "metadata": {},
   "outputs": [
    {
     "name": "stdout",
     "output_type": "stream",
     "text": [
      "Scaling...\n",
      " A: min|aij| =  1.000e+00  max|aij| =  1.000e+00  ratio =  1.000e+00\n",
      "Problem data seem to be well scaled\n"
     ]
    }
   ],
   "source": [
    "model = cobra.io.read_sbml_model('/mnt/d/Document/Mestrado/Dissertação/dissertacao-ufma/Material_suplementar/carveme/model_sbml/iGbb08.xml')\n"
   ]
  },
  {
   "cell_type": "markdown",
   "metadata": {},
   "source": [
    "## 2. Inspecionando o modelo "
   ]
  },
  {
   "cell_type": "code",
   "execution_count": 5,
   "metadata": {},
   "outputs": [
    {
     "data": {
      "text/html": [
       "\n",
       "        <table>\n",
       "            <tr>\n",
       "                <td><strong>Name</strong></td>\n",
       "                <td>iGbb08</td>\n",
       "            </tr><tr>\n",
       "                <td><strong>Memory address</strong></td>\n",
       "                <td>0x07fbc331298b0</td>\n",
       "            </tr><tr>\n",
       "                <td><strong>Number of metabolites</strong></td>\n",
       "                <td>1127</td>\n",
       "            </tr><tr>\n",
       "                <td><strong>Number of reactions</strong></td>\n",
       "                <td>1509</td>\n",
       "            </tr><tr>\n",
       "                <td><strong>Number of groups</strong></td>\n",
       "                <td>0</td>\n",
       "            </tr><tr>\n",
       "                <td><strong>Objective expression</strong></td>\n",
       "                <td>1.0*Growth - 1.0*Growth_reverse_699ae</td>\n",
       "            </tr><tr>\n",
       "                <td><strong>Compartments</strong></td>\n",
       "                <td>cytosol, periplasm, extracellular space, thylakoid</td>\n",
       "            </tr>\n",
       "          </table>"
      ],
      "text/plain": [
       "<Model iGbb08 at 0x7fbc331298b0>"
      ]
     },
     "execution_count": 5,
     "metadata": {},
     "output_type": "execute_result"
    }
   ],
   "source": [
    "model"
   ]
  },
  {
   "cell_type": "code",
   "execution_count": 6,
   "metadata": {},
   "outputs": [
    {
     "name": "stdout",
     "output_type": "stream",
     "text": [
      "Model information\n",
      "Model ID is: iGbb08\n",
      "Number of reactions: 1509\n",
      "Number of metabolites: 1127\n",
      "Number of genes: 758\n",
      "Model compartments:\n",
      "C_c\tcytosol\n",
      "C_p\tperiplasm\n",
      "C_e\textracellular space\n",
      "C_u\tthylakoid\n",
      "\n",
      "################################\n",
      "\n"
     ]
    }
   ],
   "source": [
    "model_list = [model]\n",
    "for model in model_list:\n",
    "    num_reactions = len(model.reactions)\n",
    "    num_metabolites = len(model.metabolites)\n",
    "    num_genes = len(model.genes)\n",
    "\n",
    "    print(\"Model information\")\n",
    "    print(\"Model ID is: {}\".format(model.id))\n",
    "    print(\"Number of reactions: {}\".format(num_reactions))\n",
    "    print(\"Number of metabolites: {}\".format(num_metabolites))\n",
    "    print(\"Number of genes: {}\".format(num_genes))\n",
    "    print(\"Model compartments:\")\n",
    "    for k, v in model.compartments.items():\n",
    "        print(k + '\\t' + v)\n",
    "    print('\\n################################\\n')"
   ]
  },
  {
   "cell_type": "markdown",
   "metadata": {},
   "source": [
    "## Inspecionando a Função Objetivo (FBA) e os Fluxos de Troca (FVA)(Inspecting objective and exchange fluxes)"
   ]
  },
  {
   "cell_type": "markdown",
   "metadata": {},
   "source": [
    "# 3. Inspecionando FBA"
   ]
  },
  {
   "cell_type": "markdown",
   "metadata": {},
   "source": [
    "As inspeções serão para os três metabólitos de interesse e primeiramente serão realizadas apenas a mudança da função objetivo.\n",
    "Contudo, deve-se avaliar se há formação de biomassa! "
   ]
  },
  {
   "cell_type": "code",
   "execution_count": 7,
   "metadata": {},
   "outputs": [
    {
     "data": {
      "text/html": [
       "<h3>Objective</h3><p>1.0 Growth = 0.021897155983588653</p><h4>Uptake</h4><table border=\"1\" class=\"dataframe\">\n",
       "  <thead>\n",
       "    <tr style=\"text-align: right;\">\n",
       "      <th>Metabolite</th>\n",
       "      <th>Reaction</th>\n",
       "      <th>Flux</th>\n",
       "      <th>C-Number</th>\n",
       "      <th>C-Flux</th>\n",
       "    </tr>\n",
       "  </thead>\n",
       "  <tbody>\n",
       "    <tr>\n",
       "      <td>ca2_e</td>\n",
       "      <td>EX_ca2_e</td>\n",
       "      <td>0.0001104</td>\n",
       "      <td>0</td>\n",
       "      <td>0.00%</td>\n",
       "    </tr>\n",
       "    <tr>\n",
       "      <td>cit_e</td>\n",
       "      <td>EX_cit_e</td>\n",
       "      <td>0.0003311</td>\n",
       "      <td>6</td>\n",
       "      <td>0.22%</td>\n",
       "    </tr>\n",
       "    <tr>\n",
       "      <td>cl_e</td>\n",
       "      <td>EX_cl_e</td>\n",
       "      <td>0.0001104</td>\n",
       "      <td>0</td>\n",
       "      <td>0.00%</td>\n",
       "    </tr>\n",
       "    <tr>\n",
       "      <td>co2_e</td>\n",
       "      <td>EX_co2_e</td>\n",
       "      <td>0.9028</td>\n",
       "      <td>1</td>\n",
       "      <td>99.78%</td>\n",
       "    </tr>\n",
       "    <tr>\n",
       "      <td>cobalt2_e</td>\n",
       "      <td>EX_cobalt2_e</td>\n",
       "      <td>2.121E-06</td>\n",
       "      <td>0</td>\n",
       "      <td>0.00%</td>\n",
       "    </tr>\n",
       "    <tr>\n",
       "      <td>cu2_e</td>\n",
       "      <td>EX_cu2_e</td>\n",
       "      <td>1.503E-05</td>\n",
       "      <td>0</td>\n",
       "      <td>0.00%</td>\n",
       "    </tr>\n",
       "    <tr>\n",
       "      <td>fe2_e</td>\n",
       "      <td>EX_fe2_e</td>\n",
       "      <td>0.0001424</td>\n",
       "      <td>0</td>\n",
       "      <td>0.00%</td>\n",
       "    </tr>\n",
       "    <tr>\n",
       "      <td>fe3_e</td>\n",
       "      <td>EX_fe3_e</td>\n",
       "      <td>0.0001656</td>\n",
       "      <td>0</td>\n",
       "      <td>0.00%</td>\n",
       "    </tr>\n",
       "    <tr>\n",
       "      <td>h2o_e</td>\n",
       "      <td>EX_h2o_e</td>\n",
       "      <td>0.3049</td>\n",
       "      <td>0</td>\n",
       "      <td>0.00%</td>\n",
       "    </tr>\n",
       "    <tr>\n",
       "      <td>k_e</td>\n",
       "      <td>EX_k_e</td>\n",
       "      <td>0.004139</td>\n",
       "      <td>0</td>\n",
       "      <td>0.00%</td>\n",
       "    </tr>\n",
       "    <tr>\n",
       "      <td>mg2_e</td>\n",
       "      <td>EX_mg2_e</td>\n",
       "      <td>0.000184</td>\n",
       "      <td>0</td>\n",
       "      <td>0.00%</td>\n",
       "    </tr>\n",
       "    <tr>\n",
       "      <td>mn2_e</td>\n",
       "      <td>EX_mn2_e</td>\n",
       "      <td>1.465E-05</td>\n",
       "      <td>0</td>\n",
       "      <td>0.00%</td>\n",
       "    </tr>\n",
       "    <tr>\n",
       "      <td>nh4_e</td>\n",
       "      <td>EX_nh4_e</td>\n",
       "      <td>0.2374</td>\n",
       "      <td>0</td>\n",
       "      <td>0.00%</td>\n",
       "    </tr>\n",
       "    <tr>\n",
       "      <td>photon_e</td>\n",
       "      <td>EX_photon_e</td>\n",
       "      <td>10</td>\n",
       "      <td>0</td>\n",
       "      <td>0.00%</td>\n",
       "    </tr>\n",
       "    <tr>\n",
       "      <td>pi_e</td>\n",
       "      <td>EX_pi_e</td>\n",
       "      <td>0.02091</td>\n",
       "      <td>0</td>\n",
       "      <td>0.00%</td>\n",
       "    </tr>\n",
       "    <tr>\n",
       "      <td>so4_e</td>\n",
       "      <td>EX_so4_e</td>\n",
       "      <td>0.005315</td>\n",
       "      <td>0</td>\n",
       "      <td>0.00%</td>\n",
       "    </tr>\n",
       "    <tr>\n",
       "      <td>zn2_e</td>\n",
       "      <td>EX_zn2_e</td>\n",
       "      <td>7.231E-06</td>\n",
       "      <td>0</td>\n",
       "      <td>0.00%</td>\n",
       "    </tr>\n",
       "  </tbody>\n",
       "</table><h4>Secretion</h4><table border=\"1\" class=\"dataframe\">\n",
       "  <thead>\n",
       "    <tr style=\"text-align: right;\">\n",
       "      <th>Metabolite</th>\n",
       "      <th>Reaction</th>\n",
       "      <th>Flux</th>\n",
       "      <th>C-Number</th>\n",
       "      <th>C-Flux</th>\n",
       "    </tr>\n",
       "  </thead>\n",
       "  <tbody>\n",
       "    <tr>\n",
       "      <td>h_e</td>\n",
       "      <td>EX_h_e</td>\n",
       "      <td>-0.2066</td>\n",
       "      <td>0</td>\n",
       "      <td>0.00%</td>\n",
       "    </tr>\n",
       "    <tr>\n",
       "      <td>o2_e</td>\n",
       "      <td>EX_o2_e</td>\n",
       "      <td>-0.943</td>\n",
       "      <td>0</td>\n",
       "      <td>0.00%</td>\n",
       "    </tr>\n",
       "    <tr>\n",
       "      <td>4hba_c</td>\n",
       "      <td>sink_4hba_c</td>\n",
       "      <td>-4.729E-06</td>\n",
       "      <td>7</td>\n",
       "      <td>100.00%</td>\n",
       "    </tr>\n",
       "  </tbody>\n",
       "</table>"
      ],
      "text/plain": [
       "<cobra.summary.model_summary.ModelSummary at 0x7fbc321e6d90>"
      ]
     },
     "execution_count": 7,
     "metadata": {},
     "output_type": "execute_result"
    }
   ],
   "source": [
    "# Quais são os metabólitos que estão retornando para mim?\n",
    "## Uptake - o que a simulação consegue captar do meio \n",
    "## Secretion - Simula o que a célula iria exportar!\n",
    "\n",
    "model.summary() #mmol/gDW/h\n",
    "\n"
   ]
  },
  {
   "cell_type": "code",
   "execution_count": 8,
   "metadata": {},
   "outputs": [],
   "source": [
    "df = pd.DataFrame([model.summary])"
   ]
  },
  {
   "cell_type": "code",
   "execution_count": 9,
   "metadata": {},
   "outputs": [],
   "source": [
    "csv = df.to_csv(index = False)"
   ]
  },
  {
   "cell_type": "code",
   "execution_count": 10,
   "metadata": {},
   "outputs": [
    {
     "name": "stdout",
     "output_type": "stream",
     "text": [
      "<Solution 0.022 at 0x7fbc325c9bb0>\n"
     ]
    }
   ],
   "source": [
    "solution = model.optimize()\n",
    "print(solution)\n"
   ]
  },
  {
   "cell_type": "code",
   "execution_count": 11,
   "metadata": {},
   "outputs": [
    {
     "data": {
      "text/plain": [
       "{'EX_h2o_e': 10.0,\n",
       " 'EX_hco3_e': 10.0,\n",
       " 'EX_cl_e': 10.0,\n",
       " 'EX_pi_e': 10.0,\n",
       " 'EX_nh4_e': 10.0,\n",
       " 'EX_fe3_e': 10.0,\n",
       " 'EX_k_e': 10.0,\n",
       " 'EX_ca2_e': 10.0,\n",
       " 'EX_cit_e': 10.0,\n",
       " 'EX_mg2_e': 10.0,\n",
       " 'EX_mn2_e': 10.0,\n",
       " 'EX_cobalt2_e': 10.0,\n",
       " 'EX_zn2_e': 10.0,\n",
       " 'EX_co2_e': 10.0,\n",
       " 'EX_o2_e': 10.0,\n",
       " 'EX_fe2_e': 10.0,\n",
       " 'EX_mobd_e': 10.0,\n",
       " 'EX_no3_e': 10.0,\n",
       " 'EX_photon_e': 10.0,\n",
       " 'EX_so4_e': 10.0,\n",
       " 'EX_cu2_e': 10.0}"
      ]
     },
     "execution_count": 11,
     "metadata": {},
     "output_type": "execute_result"
    }
   ],
   "source": [
    "model.medium"
   ]
  },
  {
   "cell_type": "markdown",
   "metadata": {},
   "source": [
    "### Principais reações de consumo e produção de energia"
   ]
  },
  {
   "cell_type": "code",
   "execution_count": 12,
   "metadata": {},
   "outputs": [
    {
     "data": {
      "text/html": [
       "<h3>atp_c</h3><p>C10H12N5O13P3</p><h4>Producing Reactions</h4><table border=\"1\" class=\"dataframe\">\n",
       "  <thead>\n",
       "    <tr style=\"text-align: right;\">\n",
       "      <th>Percent</th>\n",
       "      <th>Flux</th>\n",
       "      <th>Reaction</th>\n",
       "      <th>Definition</th>\n",
       "    </tr>\n",
       "  </thead>\n",
       "  <tbody>\n",
       "    <tr>\n",
       "      <td>22.67%</td>\n",
       "      <td>0.9679</td>\n",
       "      <td>ATPS4rpp</td>\n",
       "      <td>adp_c + 4.0 h_p + pi_c --&gt; atp_c + h2o_c + 3.0 h_c</td>\n",
       "    </tr>\n",
       "    <tr>\n",
       "      <td>75.30%</td>\n",
       "      <td>3.214</td>\n",
       "      <td>ATPSu</td>\n",
       "      <td>3.0 adp_c + 14.0 h_u + 3.0 pi_c --&gt; 3.0 atp_c + 3.0 h2o_c + 11.0 h_c</td>\n",
       "    </tr>\n",
       "    <tr>\n",
       "      <td>2.00%</td>\n",
       "      <td>0.08533</td>\n",
       "      <td>PYK</td>\n",
       "      <td>adp_c + h_c + pep_c --&gt; atp_c + pyr_c</td>\n",
       "    </tr>\n",
       "    <tr>\n",
       "      <td>0.03%</td>\n",
       "      <td>0.001128</td>\n",
       "      <td>URIDK2r</td>\n",
       "      <td>atp_c + dump_c &lt;=&gt; adp_c + dudp_c</td>\n",
       "    </tr>\n",
       "  </tbody>\n",
       "</table><h4>Consuming Reactions</h4><table border=\"1\" class=\"dataframe\">\n",
       "  <thead>\n",
       "    <tr style=\"text-align: right;\">\n",
       "      <th>Percent</th>\n",
       "      <th>Flux</th>\n",
       "      <th>Reaction</th>\n",
       "      <th>Definition</th>\n",
       "    </tr>\n",
       "  </thead>\n",
       "  <tbody>\n",
       "    <tr>\n",
       "      <td>0.15%</td>\n",
       "      <td>-0.006272</td>\n",
       "      <td>ACGK</td>\n",
       "      <td>acglu_c + atp_c --&gt; acg5p_c + adp_c</td>\n",
       "    </tr>\n",
       "    <tr>\n",
       "      <td>0.12%</td>\n",
       "      <td>-0.005223</td>\n",
       "      <td>ACS</td>\n",
       "      <td>ac_c + atp_c + coa_c --&gt; accoa_c + amp_c + ppi_c</td>\n",
       "    </tr>\n",
       "    <tr>\n",
       "      <td>1.25%</td>\n",
       "      <td>-0.05318</td>\n",
       "      <td>ADK1</td>\n",
       "      <td>amp_c + atp_c &lt;=&gt; 2.0 adp_c</td>\n",
       "    </tr>\n",
       "    <tr>\n",
       "      <td>0.00%</td>\n",
       "      <td>-2.121E-06</td>\n",
       "      <td>ADNK1</td>\n",
       "      <td>adn_c + atp_c --&gt; adp_c + amp_c + h_c</td>\n",
       "    </tr>\n",
       "    <tr>\n",
       "      <td>0.12%</td>\n",
       "      <td>-0.005223</td>\n",
       "      <td>ADSK</td>\n",
       "      <td>aps_c + atp_c --&gt; adp_c + h_c + paps_c</td>\n",
       "    </tr>\n",
       "    <tr>\n",
       "      <td>0.05%</td>\n",
       "      <td>-0.002121</td>\n",
       "      <td>ALAALAr</td>\n",
       "      <td>2.0 ala__D_c + atp_c &lt;=&gt; adp_c + alaala_c + h_c + pi_c</td>\n",
       "    </tr>\n",
       "    <tr>\n",
       "      <td>0.15%</td>\n",
       "      <td>-0.006272</td>\n",
       "      <td>ARGSS</td>\n",
       "      <td>asp__L_c + atp_c + citr__L_c --&gt; amp_c + argsuc_c + h_c + ppi_c</td>\n",
       "    </tr>\n",
       "    <tr>\n",
       "      <td>0.12%</td>\n",
       "      <td>-0.005112</td>\n",
       "      <td>ASNS1</td>\n",
       "      <td>asp__L_c + atp_c + gln__L_c + h2o_c --&gt; amp_c + asn__L_c + glu__L_c + h_c + ppi_c</td>\n",
       "    </tr>\n",
       "    <tr>\n",
       "      <td>0.57%</td>\n",
       "      <td>-0.0242</td>\n",
       "      <td>ASPK</td>\n",
       "      <td>asp__L_c + atp_c &lt;=&gt; 4pasp_c + adp_c</td>\n",
       "    </tr>\n",
       "    <tr>\n",
       "      <td>0.05%</td>\n",
       "      <td>-0.002009</td>\n",
       "      <td>ATPPRT</td>\n",
       "      <td>atp_c + prpp_c --&gt; ppi_c + prbatp_c</td>\n",
       "    </tr>\n",
       "    <tr>\n",
       "      <td>0.00%</td>\n",
       "      <td>-0.0001104</td>\n",
       "      <td>CA2abcpp</td>\n",
       "      <td>atp_c + ca2_p + h2o_c --&gt; adp_c + ca2_c + h_c + pi_c</td>\n",
       "    </tr>\n",
       "    <tr>\n",
       "      <td>0.62%</td>\n",
       "      <td>-0.02657</td>\n",
       "      <td>CBPS</td>\n",
       "      <td>2.0 atp_c + gln__L_c + h2o_c + hco3_c --&gt; 2.0 adp_c + cbp_c + glu__L_c + 2.0 h_c + pi_c</td>\n",
       "    </tr>\n",
       "    <tr>\n",
       "      <td>0.55%</td>\n",
       "      <td>-0.02334</td>\n",
       "      <td>CDPMEK</td>\n",
       "      <td>4c2me_c + atp_c --&gt; 2p4c2me_c + adp_c + h_c</td>\n",
       "    </tr>\n",
       "    <tr>\n",
       "      <td>0.07%</td>\n",
       "      <td>-0.002831</td>\n",
       "      <td>CTPS1</td>\n",
       "      <td>atp_c + nh4_c + utp_c --&gt; adp_c + ctp_c + 2.0 h_c + pi_c</td>\n",
       "    </tr>\n",
       "    <tr>\n",
       "      <td>0.55%</td>\n",
       "      <td>-0.02334</td>\n",
       "      <td>CYTK1</td>\n",
       "      <td>atp_c + cmp_c &lt;=&gt; adp_c + cdp_c</td>\n",
       "    </tr>\n",
       "    <tr>\n",
       "      <td>0.01%</td>\n",
       "      <td>-0.0005729</td>\n",
       "      <td>CYTK2</td>\n",
       "      <td>atp_c + dcmp_c &lt;=&gt; adp_c + dcdp_c</td>\n",
       "    </tr>\n",
       "    <tr>\n",
       "      <td>0.00%</td>\n",
       "      <td>-1.503E-05</td>\n",
       "      <td>Cuabc</td>\n",
       "      <td>atp_c + cu2_e + h2o_c --&gt; adp_c + cu2_c + h_c + pi_c</td>\n",
       "    </tr>\n",
       "    <tr>\n",
       "      <td>0.00%</td>\n",
       "      <td>-1.419E-05</td>\n",
       "      <td>DHFS</td>\n",
       "      <td>atp_c + dhpt_c + glu__L_c --&gt; adp_c + dhf_c + h_c + pi_c</td>\n",
       "    </tr>\n",
       "    <tr>\n",
       "      <td>0.00%</td>\n",
       "      <td>-1.221E-05</td>\n",
       "      <td>DPCOAK</td>\n",
       "      <td>atp_c + dpcoa_c --&gt; adp_c + coa_c + h_c</td>\n",
       "    </tr>\n",
       "    <tr>\n",
       "      <td>0.01%</td>\n",
       "      <td>-0.0005549</td>\n",
       "      <td>DTMPK</td>\n",
       "      <td>atp_c + dtmp_c &lt;=&gt; adp_c + dtdp_c</td>\n",
       "    </tr>\n",
       "    <tr>\n",
       "      <td>0.00%</td>\n",
       "      <td>-0.0001424</td>\n",
       "      <td>FE2abc</td>\n",
       "      <td>atp_c + fe2_e + h2o_c --&gt; adp_c + fe2_c + h_c + pi_c</td>\n",
       "    </tr>\n",
       "    <tr>\n",
       "      <td>0.00%</td>\n",
       "      <td>-0.0001656</td>\n",
       "      <td>FEDCabc</td>\n",
       "      <td>atp_c + 2.0 cit_e + fe3_e + h2o_c --&gt; adp_c + 2.0 cit_c + fe3_c + h_c + pi_c</td>\n",
       "    </tr>\n",
       "    <tr>\n",
       "      <td>0.00%</td>\n",
       "      <td>-4.729E-06</td>\n",
       "      <td>FMNAT</td>\n",
       "      <td>atp_c + fmn_c + h_c --&gt; fad_c + ppi_c</td>\n",
       "    </tr>\n",
       "    <tr>\n",
       "      <td>0.49%</td>\n",
       "      <td>-0.021</td>\n",
       "      <td>FTHFLi</td>\n",
       "      <td>atp_c + for_c + thf_c --&gt; 10fthf_c + adp_c + pi_c</td>\n",
       "    </tr>\n",
       "    <tr>\n",
       "      <td>0.12%</td>\n",
       "      <td>-0.005158</td>\n",
       "      <td>GK1</td>\n",
       "      <td>atp_c + gmp_c &lt;=&gt; adp_c + gdp_c</td>\n",
       "    </tr>\n",
       "    <tr>\n",
       "      <td>1.15%</td>\n",
       "      <td>-0.04928</td>\n",
       "      <td>GLNS</td>\n",
       "      <td>atp_c + glu__L_c + nh4_c --&gt; adp_c + gln__L_c + h_c + pi_c</td>\n",
       "    </tr>\n",
       "    <tr>\n",
       "      <td>0.11%</td>\n",
       "      <td>-0.004688</td>\n",
       "      <td>GLU5K</td>\n",
       "      <td>atp_c + glu__L_c --&gt; adp_c + glu5p_c</td>\n",
       "    </tr>\n",
       "    <tr>\n",
       "      <td>0.12%</td>\n",
       "      <td>-0.005158</td>\n",
       "      <td>GMPS</td>\n",
       "      <td>atp_c + nh4_c + xmp_c --&gt; amp_c + gmp_c + 2.0 h_c + ppi_c</td>\n",
       "    </tr>\n",
       "    <tr>\n",
       "      <td>26.89%</td>\n",
       "      <td>-1.148</td>\n",
       "      <td>Growth</td>\n",
       "      <td>0.000215957436615497 10fthf_c + 0.497466186805283 ala__L_c + 0.000215957436615497 amet_c + 0.286450592337987 arg__L_c + 0.233442241629366 asn__L_c + 0.233442241629366 asp__L_c + 52.4155146188655 atp_c + 0.00504062088602539 ca2_c + 0.00504062088602539 cl_c + 0.000557809343006845 coa_c + 9.68418998275772e-05 cobalt2_c + 0.129291683621802 ctp_c + 0.000686609069777522 cu2_c + 0.0886878118620952 cys__L_c + 0.0253396515088839 datp_c + 0.0261637760764165 dctp_c + 0.0261637760764165 dgtp_c + 0.0253396515088839 dttp_c + 0.000215957436615497 fad_c + 0.00650293357342181 fe2_c + 0.00756141553853723 fe3_c + 0.254849143586252 gln__L_c + 0.254849143586252 glu__L_c + 0.593290278265672 gly_c + 0.208303052853126 gtp_c + 47.0666420920129 h2o_c + 0.0917460790586501 his__L_c + 0.281353803150062 ile__L_c + 0.189028609530443 k_c + 0.436302779712182 leu__L_c + 0.332323631867312 lys__L_c + 0.14883244216901 met__L_c + 0.00840103481004232 mg2_c + 0.000215957436615497 mlthf_c + 0.000669177527808559 mn2_c + 9.68418998275772e-05 mql8_c + 0.00177317518584294 nad_c + 0.00043288329222927 nadp_c + 0.179414145715561 phe__L_c + 0.214073861663851 pro__L_c + 0.000215957436615497 pydx5p_c + 0.000215957436615497 ribflv_c + 0.208977072475925 ser__L_c + 0.0042010016145203 so4_c + 0.000215957436615497 thf_c + 0.000215957436615497 thmpp_c + 0.245675310415586 thr__L_c + 0.0550478411189897 trp__L_c + 0.133541106186236 tyr__L_c + 0.0968418998275772 uaagmda_c + 0.139553051327532 utp_c + 0.409798120148372 val__L_c + 0.000330230878412038 zn2_c --&gt; 52.2462049569779 adp_c + 52.2462049569779 h_c + 52.2420039553634 pi_c + 0.749462368022615 ppi_c</td>\n",
       "    </tr>\n",
       "    <tr>\n",
       "      <td>0.00%</td>\n",
       "      <td>-4.729E-06</td>\n",
       "      <td>HMPK1</td>\n",
       "      <td>4ahmmp_c + atp_c --&gt; 4ampm_c + adp_c + h_c</td>\n",
       "    </tr>\n",
       "    <tr>\n",
       "      <td>0.00%</td>\n",
       "      <td>-1.419E-05</td>\n",
       "      <td>HPPK</td>\n",
       "      <td>2ahhmp_c + atp_c --&gt; 2ahhmd_c + amp_c + h_c</td>\n",
       "    </tr>\n",
       "    <tr>\n",
       "      <td>0.27%</td>\n",
       "      <td>-0.01154</td>\n",
       "      <td>HSK</td>\n",
       "      <td>atp_c + hom__L_c --&gt; adp_c + h_c + phom_c</td>\n",
       "    </tr>\n",
       "    <tr>\n",
       "      <td>0.00%</td>\n",
       "      <td>-6.849E-06</td>\n",
       "      <td>METAT</td>\n",
       "      <td>atp_c + h2o_c + met__L_c --&gt; amet_c + pi_c + ppi_c</td>\n",
       "    </tr>\n",
       "    <tr>\n",
       "      <td>0.00%</td>\n",
       "      <td>-9.479E-06</td>\n",
       "      <td>NADK</td>\n",
       "      <td>atp_c + nad_c --&gt; adp_c + h_c + nadp_c</td>\n",
       "    </tr>\n",
       "    <tr>\n",
       "      <td>0.00%</td>\n",
       "      <td>-4.831E-05</td>\n",
       "      <td>NADS2</td>\n",
       "      <td>atp_c + dnad_c + gln__L_c + h2o_c --&gt; amp_c + glu__L_c + h_c + nad_c + ppi_c</td>\n",
       "    </tr>\n",
       "    <tr>\n",
       "      <td>0.01%</td>\n",
       "      <td>-0.0005549</td>\n",
       "      <td>NDPK4</td>\n",
       "      <td>atp_c + dtdp_c &lt;=&gt; adp_c + dttp_c</td>\n",
       "    </tr>\n",
       "    <tr>\n",
       "      <td>0.01%</td>\n",
       "      <td>-0.0005729</td>\n",
       "      <td>NDPK5</td>\n",
       "      <td>atp_c + dgdp_c &lt;=&gt; adp_c + dgtp_c</td>\n",
       "    </tr>\n",
       "    <tr>\n",
       "      <td>0.01%</td>\n",
       "      <td>-0.0005729</td>\n",
       "      <td>NDPK7</td>\n",
       "      <td>atp_c + dcdp_c &lt;=&gt; adp_c + dctp_c</td>\n",
       "    </tr>\n",
       "    <tr>\n",
       "      <td>0.01%</td>\n",
       "      <td>-0.0005549</td>\n",
       "      <td>NDPK8</td>\n",
       "      <td>atp_c + dadp_c &lt;=&gt; adp_c + datp_c</td>\n",
       "    </tr>\n",
       "    <tr>\n",
       "      <td>0.00%</td>\n",
       "      <td>-4.831E-05</td>\n",
       "      <td>NNATr</td>\n",
       "      <td>atp_c + h_c + nicrnt_c &lt;=&gt; dnad_c + ppi_c</td>\n",
       "    </tr>\n",
       "    <tr>\n",
       "      <td>0.00%</td>\n",
       "      <td>-1.221E-05</td>\n",
       "      <td>PANTS</td>\n",
       "      <td>ala_B_c + atp_c + pant__R_c --&gt; amp_c + h_c + pnto__R_c + ppi_c</td>\n",
       "    </tr>\n",
       "    <tr>\n",
       "      <td>40.36%</td>\n",
       "      <td>-1.723</td>\n",
       "      <td>PGK</td>\n",
       "      <td>3pg_c + atp_c &lt;=&gt; 13dpg_c + adp_c</td>\n",
       "    </tr>\n",
       "    <tr>\n",
       "      <td>0.00%</td>\n",
       "      <td>-4.729E-06</td>\n",
       "      <td>PMPK</td>\n",
       "      <td>4ampm_c + atp_c --&gt; 2mahmp_c + adp_c</td>\n",
       "    </tr>\n",
       "    <tr>\n",
       "      <td>0.00%</td>\n",
       "      <td>-1.221E-05</td>\n",
       "      <td>PNTK</td>\n",
       "      <td>atp_c + pnto__R_c --&gt; 4ppan_c + adp_c + h_c</td>\n",
       "    </tr>\n",
       "    <tr>\n",
       "      <td>0.22%</td>\n",
       "      <td>-0.009495</td>\n",
       "      <td>PRAGSr</td>\n",
       "      <td>atp_c + gly_c + pram_c &lt;=&gt; adp_c + gar_c + h_c + pi_c</td>\n",
       "    </tr>\n",
       "    <tr>\n",
       "      <td>0.22%</td>\n",
       "      <td>-0.009495</td>\n",
       "      <td>PRAIS</td>\n",
       "      <td>atp_c + fpram_c --&gt; adp_c + air_c + 2.0 h_c + pi_c</td>\n",
       "    </tr>\n",
       "    <tr>\n",
       "      <td>0.22%</td>\n",
       "      <td>-0.00949</td>\n",
       "      <td>PRASCSi</td>\n",
       "      <td>5aizc_c + asp__L_c + atp_c --&gt; 25aics_c + adp_c + h_c + pi_c</td>\n",
       "    </tr>\n",
       "    <tr>\n",
       "      <td>0.22%</td>\n",
       "      <td>-0.009495</td>\n",
       "      <td>PRFGS</td>\n",
       "      <td>atp_c + fgam_c + gln__L_c + h2o_c --&gt; adp_c + fpram_c + glu__L_c + h_c + pi_c</td>\n",
       "    </tr>\n",
       "    <tr>\n",
       "      <td>0.46%</td>\n",
       "      <td>-0.01977</td>\n",
       "      <td>PRPPS</td>\n",
       "      <td>atp_c + r5p_c &lt;=&gt; amp_c + h_c + prpp_c</td>\n",
       "    </tr>\n",
       "    <tr>\n",
       "      <td>23.17%</td>\n",
       "      <td>-0.989</td>\n",
       "      <td>PRUK</td>\n",
       "      <td>atp_c + ru5p__D_c --&gt; adp_c + h_c + rb15bp_c</td>\n",
       "    </tr>\n",
       "    <tr>\n",
       "      <td>0.00%</td>\n",
       "      <td>-1.221E-05</td>\n",
       "      <td>PTPATi</td>\n",
       "      <td>atp_c + h_c + pan4p_c --&gt; dpcoa_c + ppi_c</td>\n",
       "    </tr>\n",
       "    <tr>\n",
       "      <td>0.57%</td>\n",
       "      <td>-0.02441</td>\n",
       "      <td>PYDXK</td>\n",
       "      <td>atp_c + pydx_c --&gt; adp_c + h_c + pydx5p_c</td>\n",
       "    </tr>\n",
       "    <tr>\n",
       "      <td>0.00%</td>\n",
       "      <td>-4.729E-06</td>\n",
       "      <td>RBFK</td>\n",
       "      <td>atp_c + ribflv_c --&gt; adp_c + fmn_c + h_c</td>\n",
       "    </tr>\n",
       "    <tr>\n",
       "      <td>0.12%</td>\n",
       "      <td>-0.005223</td>\n",
       "      <td>SADT</td>\n",
       "      <td>atp_c + h_c + so4_c --&gt; aps_c + ppi_c</td>\n",
       "    </tr>\n",
       "    <tr>\n",
       "      <td>0.19%</td>\n",
       "      <td>-0.008079</td>\n",
       "      <td>SHKK</td>\n",
       "      <td>atp_c + skm_c --&gt; adp_c + h_c + skm5p_c</td>\n",
       "    </tr>\n",
       "    <tr>\n",
       "      <td>0.00%</td>\n",
       "      <td>-2.121E-06</td>\n",
       "      <td>SUCBZL</td>\n",
       "      <td>atp_c + coa_c + sucbz_c --&gt; amp_c + ppi_c + sbzcoa_c</td>\n",
       "    </tr>\n",
       "    <tr>\n",
       "      <td>0.22%</td>\n",
       "      <td>-0.009398</td>\n",
       "      <td>SUCOAS</td>\n",
       "      <td>atp_c + coa_c + succ_c &lt;=&gt; adp_c + pi_c + succoa_c</td>\n",
       "    </tr>\n",
       "    <tr>\n",
       "      <td>0.00%</td>\n",
       "      <td>-4.729E-06</td>\n",
       "      <td>THZPSN</td>\n",
       "      <td>atp_c + cys__L_c + dxyl5p_c + tyr__L_c --&gt; 4hba_c + 4mpetz_c + ala__L_c + amp_c + co2_c + h2o_c + h_c + ppi_c</td>\n",
       "    </tr>\n",
       "    <tr>\n",
       "      <td>0.00%</td>\n",
       "      <td>-4.729E-06</td>\n",
       "      <td>TMPK</td>\n",
       "      <td>atp_c + thmmp_c --&gt; adp_c + thmpp_c</td>\n",
       "    </tr>\n",
       "    <tr>\n",
       "      <td>0.05%</td>\n",
       "      <td>-0.002121</td>\n",
       "      <td>UAAGDS</td>\n",
       "      <td>26dap__M_c + atp_c + uamag_c --&gt; adp_c + h_c + pi_c + ugmd_c</td>\n",
       "    </tr>\n",
       "    <tr>\n",
       "      <td>0.05%</td>\n",
       "      <td>-0.002121</td>\n",
       "      <td>UAMAGS</td>\n",
       "      <td>atp_c + glu__D_c + uama_c --&gt; adp_c + h_c + pi_c + uamag_c</td>\n",
       "    </tr>\n",
       "    <tr>\n",
       "      <td>0.05%</td>\n",
       "      <td>-0.002121</td>\n",
       "      <td>UAMAS</td>\n",
       "      <td>ala__L_c + atp_c + uamr_c --&gt; adp_c + h_c + pi_c + uama_c</td>\n",
       "    </tr>\n",
       "    <tr>\n",
       "      <td>0.05%</td>\n",
       "      <td>-0.002121</td>\n",
       "      <td>UGMDDS</td>\n",
       "      <td>alaala_c + atp_c + ugmd_c --&gt; adp_c + h_c + pi_c + ugmda_c</td>\n",
       "    </tr>\n",
       "    <tr>\n",
       "      <td>0.21%</td>\n",
       "      <td>-0.009135</td>\n",
       "      <td>UMPK</td>\n",
       "      <td>atp_c + ump_c &lt;=&gt; adp_c + udp_c</td>\n",
       "    </tr>\n",
       "    <tr>\n",
       "      <td>0.00%</td>\n",
       "      <td>-7.231E-06</td>\n",
       "      <td>ZNabc</td>\n",
       "      <td>atp_c + h2o_c + zn2_e --&gt; adp_c + h_c + pi_c + zn2_c</td>\n",
       "    </tr>\n",
       "  </tbody>\n",
       "</table>"
      ],
      "text/plain": [
       "<cobra.summary.metabolite_summary.MetaboliteSummary at 0x7fbc325c9f70>"
      ]
     },
     "execution_count": 12,
     "metadata": {},
     "output_type": "execute_result"
    }
   ],
   "source": [
    "model.metabolites.atp_c.summary()"
   ]
  },
  {
   "cell_type": "code",
   "execution_count": null,
   "metadata": {},
   "outputs": [],
   "source": [
    "## Teste de Reação de Biomassa\n"
   ]
  },
  {
   "cell_type": "code",
   "execution_count": 13,
   "metadata": {},
   "outputs": [
    {
     "data": {
      "text/html": [
       "<h3>Growth</h3><p>0.000215957436615497 10fthf_c + 0.497466186805283 ala__L_c + 0.000215957436615497 amet_c + 0.286450592337987 arg__L_c + 0.233442241629366 asn__L_c + 0.233442241629366 asp__L_c + 52.4155146188655 atp_c + 0.00504062088602539 ca2_c + 0.00504062088602539 cl_c + 0.000557809343006845 coa_c + 9.68418998275772e-05 cobalt2_c + 0.129291683621802 ctp_c + 0.000686609069777522 cu2_c + 0.0886878118620952 cys__L_c + 0.0253396515088839 datp_c + 0.0261637760764165 dctp_c + 0.0261637760764165 dgtp_c + 0.0253396515088839 dttp_c + 0.000215957436615497 fad_c + 0.00650293357342181 fe2_c + 0.00756141553853723 fe3_c + 0.254849143586252 gln__L_c + 0.254849143586252 glu__L_c + 0.593290278265672 gly_c + 0.208303052853126 gtp_c + 47.0666420920129 h2o_c + 0.0917460790586501 his__L_c + 0.281353803150062 ile__L_c + 0.189028609530443 k_c + 0.436302779712182 leu__L_c + 0.332323631867312 lys__L_c + 0.14883244216901 met__L_c + 0.00840103481004232 mg2_c + 0.000215957436615497 mlthf_c + 0.000669177527808559 mn2_c + 9.68418998275772e-05 mql8_c + 0.00177317518584294 nad_c + 0.00043288329222927 nadp_c + 0.179414145715561 phe__L_c + 0.214073861663851 pro__L_c + 0.000215957436615497 pydx5p_c + 0.000215957436615497 ribflv_c + 0.208977072475925 ser__L_c + 0.0042010016145203 so4_c + 0.000215957436615497 thf_c + 0.000215957436615497 thmpp_c + 0.245675310415586 thr__L_c + 0.0550478411189897 trp__L_c + 0.133541106186236 tyr__L_c + 0.0968418998275772 uaagmda_c + 0.139553051327532 utp_c + 0.409798120148372 val__L_c + 0.000330230878412038 zn2_c --> 52.2462049569779 adp_c + 52.2462049569779 h_c + 52.2420039553634 pi_c + 0.749462368022615 ppi_c</p><p>Bounds: 0.0, 1000.0</p><p>Flux: 0.0219</p>"
      ],
      "text/plain": [
       "<cobra.summary.reaction_summary.ReactionSummary at 0x7fbc31a2fdf0>"
      ]
     },
     "execution_count": 13,
     "metadata": {},
     "output_type": "execute_result"
    }
   ],
   "source": [
    "model.reactions.Growth.summary()"
   ]
  },
  {
   "cell_type": "markdown",
   "metadata": {},
   "source": [
    "## Retorno do FBA padrão (Repetição Linear)\n"
   ]
  },
  {
   "cell_type": "code",
   "execution_count": null,
   "metadata": {},
   "outputs": [],
   "source": [
    "###################"
   ]
  },
  {
   "cell_type": "code",
   "execution_count": 14,
   "metadata": {},
   "outputs": [
    {
     "name": "stdout",
     "output_type": "stream",
     "text": [
      "Dentro do with\n",
      "1.0*Growth - 1.0*Growth_reverse_699ae\n",
      "Fora do with\n",
      "1.0*Growth - 1.0*Growth_reverse_699ae\n",
      "Dentro do with\n",
      "1.0*DMATT - 1.0*DMATT_reverse_3a731\n",
      "Fora do with\n",
      "1.0*Growth - 1.0*Growth_reverse_699ae\n",
      "Dentro do with\n",
      "1.0*GRTT - 1.0*GRTT_reverse_f3afe\n",
      "Fora do with\n",
      "1.0*Growth - 1.0*Growth_reverse_699ae\n",
      "Dentro do with\n",
      "1.0*DPPS - 1.0*DPPS_reverse_d6ed6\n",
      "Fora do with\n",
      "1.0*Growth - 1.0*Growth_reverse_699ae\n"
     ]
    }
   ],
   "source": [
    "solutions = {}\n",
    "objectives = ['Growth','DMATT', 'GRTT', 'DPPS' ]\n",
    "\n",
    "for objective in objectives:\n",
    "    with model:\n",
    "        model.objective = objective\n",
    "        print('Dentro do with')\n",
    "        print(model.objective.expression)\n",
    "        solution = model.optimize()\n",
    "        solutions[objective] = solution.objective_value\n",
    "    print('Fora do with')\n",
    "    print(model.objective.expression)"
   ]
  },
  {
   "cell_type": "code",
   "execution_count": null,
   "metadata": {},
   "outputs": [],
   "source": [
    "solutions"
   ]
  },
  {
   "cell_type": "code",
   "execution_count": null,
   "metadata": {},
   "outputs": [],
   "source": [
    "model.objective.expression"
   ]
  },
  {
   "cell_type": "markdown",
   "metadata": {},
   "source": [
    "## Mudança no pFBA"
   ]
  },
  {
   "cell_type": "code",
   "execution_count": null,
   "metadata": {},
   "outputs": [],
   "source": [
    "results_list = {}\n",
    "reactions = ['DMATT','GRTT', 'DPPS']\n",
    "\n",
    "for reaction in reactions:\n",
    "    with model:\n",
    "        model.objective = reaction\n",
    "        print(model.objective.expression)\n",
    "        fba_solution = model.optimize()\n",
    "        pfba_solution = cobra.flux_analysis.pfba(model, fraction_of_optimum= 1.0)\n",
    "        results_list[reaction] = fba_solution.objective_value\n",
    "    print(model.objective.expression)"
   ]
  },
  {
   "cell_type": "code",
   "execution_count": null,
   "metadata": {},
   "outputs": [],
   "source": [
    "results_list"
   ]
  },
  {
   "cell_type": "code",
   "execution_count": null,
   "metadata": {},
   "outputs": [],
   "source": [
    "model.objective.expression"
   ]
  },
  {
   "cell_type": "code",
   "execution_count": null,
   "metadata": {},
   "outputs": [],
   "source": [
    "biomass_rxn = model.reactions.get_by_id(\"Growth\")"
   ]
  },
  {
   "cell_type": "code",
   "execution_count": null,
   "metadata": {},
   "outputs": [],
   "source": [
    "from cobra.util.solver import linear_reaction_coefficients\n",
    "linear_reaction_coefficients(model)"
   ]
  },
  {
   "cell_type": "code",
   "execution_count": null,
   "metadata": {},
   "outputs": [],
   "source": [
    "print (model.objective)"
   ]
  },
  {
   "cell_type": "code",
   "execution_count": null,
   "metadata": {},
   "outputs": [],
   "source": [
    "model.reactions.Growth.id"
   ]
  },
  {
   "cell_type": "code",
   "execution_count": null,
   "metadata": {},
   "outputs": [],
   "source": [
    "# change the objective to 'Growth' ###QUANDO FOR PARA REVERTER PARA ANALISAR AS OUTRAS REAÇÕES DE TERPENÓIDES\n",
    "model.objective = \"Growth\"\n",
    "\n",
    "# The upper bound should be 1000, so that we get\n",
    "# the actual optimal value\n",
    "model.reactions.get_by_id(\"Growth\").upper_bound = 1000.\n",
    "linear_reaction_coefficients(model)"
   ]
  },
  {
   "cell_type": "code",
   "execution_count": null,
   "metadata": {},
   "outputs": [],
   "source": [
    "###################"
   ]
  },
  {
   "cell_type": "markdown",
   "metadata": {},
   "source": [
    "## FBA (Mudanças na Função Objetivo)\n"
   ]
  },
  {
   "cell_type": "markdown",
   "metadata": {},
   "source": [
    "Aqui consiste as mudanças tirando a função objetivo padrão (formação de biomassa) para cada uma das reações de formação dos terpenóides: Geranil difosfato,  Farnesil difosfato e Farnesil difosfato. \n",
    "Além disso, aqui bém consiste nas mudanças antes de se retirar a reação (IDPS_syn)."
   ]
  },
  {
   "cell_type": "markdown",
   "metadata": {},
   "source": [
    "### 3.1 Geranyl Diphosphate (grdp_c)"
   ]
  },
  {
   "cell_type": "code",
   "execution_count": null,
   "metadata": {},
   "outputs": [],
   "source": [
    "model.metabolites.grdp_c.name"
   ]
  },
  {
   "cell_type": "code",
   "execution_count": null,
   "metadata": {},
   "outputs": [],
   "source": [
    "model.metabolites.grdp_c.summary() ## Metabólito Antes da Alteração da Função Objetivo"
   ]
  },
  {
   "cell_type": "code",
   "execution_count": null,
   "metadata": {},
   "outputs": [],
   "source": [
    "model.reactions.DMATT ## Reação para nova função Objetivo"
   ]
  },
  {
   "cell_type": "code",
   "execution_count": null,
   "metadata": {},
   "outputs": [],
   "source": [
    "model.reactions.DMATT.id"
   ]
  },
  {
   "cell_type": "code",
   "execution_count": null,
   "metadata": {},
   "outputs": [],
   "source": [
    "# change the objective to DMATT\n",
    "model.objective = 'DMATT'\n",
    "\n",
    "# The upper bound should be 1000, so that we get\n",
    "# the actual optimal value\n",
    "model.reactions.get_by_id('DMATT').upper_bound = 1000.\n",
    "model.optimize().objective_value ## FBA"
   ]
  },
  {
   "cell_type": "code",
   "execution_count": null,
   "metadata": {},
   "outputs": [],
   "source": [
    "print(model.objective)\n"
   ]
  },
  {
   "cell_type": "code",
   "execution_count": null,
   "metadata": {},
   "outputs": [],
   "source": [
    "model.metabolites.grdp_c.summary() ## Metabólito DEPOIS da Alteração da Função Objetivo"
   ]
  },
  {
   "cell_type": "markdown",
   "metadata": {},
   "source": [
    "### 3.2 Farnesil diphosphate ()"
   ]
  },
  {
   "cell_type": "code",
   "execution_count": null,
   "metadata": {},
   "outputs": [],
   "source": [
    "model.metabolites.frdp_c ## Metabólito antes da Alteração da Função Objetivo"
   ]
  },
  {
   "cell_type": "code",
   "execution_count": null,
   "metadata": {},
   "outputs": [],
   "source": [
    "model.metabolites.frdp_c.summary()"
   ]
  },
  {
   "cell_type": "code",
   "execution_count": null,
   "metadata": {},
   "outputs": [],
   "source": [
    "model.reactions.GRTT"
   ]
  },
  {
   "cell_type": "code",
   "execution_count": null,
   "metadata": {},
   "outputs": [],
   "source": [
    "# change the objective to 'GRTT'\n",
    "model.objective = 'GRTT'\n",
    "\n",
    "# The upper bound should be 1000, so that we get\n",
    "# the actual optimal value\n",
    "model.reactions.get_by_id('GRTT').upper_bound = 1000.\n",
    "model.optimize().objective_value"
   ]
  },
  {
   "cell_type": "code",
   "execution_count": null,
   "metadata": {},
   "outputs": [],
   "source": [
    "model.metabolites.frdp_c.summary() ## Metabólito APÓS da Alteração da Função Objetivo"
   ]
  },
  {
   "cell_type": "code",
   "execution_count": null,
   "metadata": {},
   "outputs": [],
   "source": [
    "model.optimize().objective_value"
   ]
  },
  {
   "cell_type": "code",
   "execution_count": null,
   "metadata": {},
   "outputs": [],
   "source": [
    "print (model.objective)"
   ]
  },
  {
   "cell_type": "code",
   "execution_count": null,
   "metadata": {},
   "outputs": [],
   "source": []
  },
  {
   "cell_type": "markdown",
   "metadata": {},
   "source": [
    "### 3.3 All trans Decaprenyl diphosphate ()"
   ]
  },
  {
   "cell_type": "code",
   "execution_count": null,
   "metadata": {},
   "outputs": [],
   "source": [
    "#código"
   ]
  },
  {
   "cell_type": "code",
   "execution_count": null,
   "metadata": {},
   "outputs": [],
   "source": [
    "model.metabolites.decdp_c.summary() ## Metabólito antes da Alteração da Função Objetivo"
   ]
  },
  {
   "cell_type": "code",
   "execution_count": null,
   "metadata": {},
   "outputs": [],
   "source": [
    "model.optimize().objective_value"
   ]
  },
  {
   "cell_type": "code",
   "execution_count": null,
   "metadata": {},
   "outputs": [],
   "source": [
    "# Mudando o objetivo para 'DPPS'\n",
    "model.objective = 'DPPS'\n",
    "\n",
    "# The upper bound should be 1000, so that we get\n",
    "# the actual optimal value\n",
    "model.reactions.get_by_id('DPPS').upper_bound = 1000.\n",
    "model.optimize().objective_value"
   ]
  },
  {
   "cell_type": "code",
   "execution_count": null,
   "metadata": {},
   "outputs": [],
   "source": [
    "model.metabolites.decdp_c.summary() ## Metabólito APÓS da Alteração da Função Objetivo"
   ]
  },
  {
   "cell_type": "markdown",
   "metadata": {},
   "source": [
    "## 4. Inspecionando o pFBA"
   ]
  },
  {
   "cell_type": "markdown",
   "metadata": {},
   "source": [
    "### Correndo o pFBA"
   ]
  },
  {
   "cell_type": "code",
   "execution_count": null,
   "metadata": {},
   "outputs": [],
   "source": [
    "model.objective = 'Growth'\n",
    "fba_solution = model.optimize()\n",
    "pfba_solution = cobra.flux_analysis.pfba(model)"
   ]
  },
  {
   "cell_type": "code",
   "execution_count": null,
   "metadata": {},
   "outputs": [],
   "source": [
    "abs(fba_solution.fluxes[\"Growth\"] - pfba_solution.fluxes[\n",
    "    \"Growth\"])"
   ]
  },
  {
   "cell_type": "code",
   "execution_count": null,
   "metadata": {},
   "outputs": [],
   "source": [
    "import numpy as np\n",
    "np.isclose(\n",
    "    fba_solution.fluxes[\"Growth\"],\n",
    "    pfba_solution.fluxes[\"Growth\"]\n",
    ")"
   ]
  },
  {
   "cell_type": "code",
   "execution_count": null,
   "metadata": {},
   "outputs": [],
   "source": [
    "pfba_solution.fluxes[\"Growth\"]"
   ]
  },
  {
   "cell_type": "code",
   "execution_count": null,
   "metadata": {},
   "outputs": [],
   "source": [
    "pfba_solution = cobra.flux_analysis.pfba(model)\n"
   ]
  },
  {
   "cell_type": "code",
   "execution_count": null,
   "metadata": {},
   "outputs": [],
   "source": [
    "pfba_solution.fluxes[\"Growth\"]"
   ]
  },
  {
   "cell_type": "code",
   "execution_count": null,
   "metadata": {},
   "outputs": [],
   "source": [
    "\n",
    "resultado = []\n",
    "reactions_i = ['Growth','DMATT','GRTT','DPPS']\n",
    "\n",
    "for i in reactions_i:\n",
    "    with model:\n",
    "        resultado[i] = pfba_solution.fluxes\n",
    "        lista = model.objective('Growth','DMATT','GRTT','DPPS')\n",
    "    print(resultado)\n",
    "    \n",
    "    \n",
    "    \n",
    "    \n",
    "    "
   ]
  },
  {
   "cell_type": "code",
   "execution_count": null,
   "metadata": {},
   "outputs": [],
   "source": [
    "help(cobra.flux_analysis.pfba)"
   ]
  },
  {
   "cell_type": "code",
   "execution_count": null,
   "metadata": {},
   "outputs": [],
   "source": [
    "solution_test = cobra.flux_analysis.parsimonious.pfba(model, fraction_of_optimum=1.0, objective=None, reactions=None)\n",
    "solution_test"
   ]
  },
  {
   "cell_type": "code",
   "execution_count": null,
   "metadata": {},
   "outputs": [],
   "source": [
    "solution_test.fluxes[\"Growth\"]"
   ]
  },
  {
   "cell_type": "code",
   "execution_count": null,
   "metadata": {},
   "outputs": [],
   "source": [
    "pfba_solution.fluxes[\"Growth\"]"
   ]
  },
  {
   "cell_type": "markdown",
   "metadata": {},
   "source": [
    "Aqui é determinado o mínimo e o máximo valor de fluxo par cada reação, nisso, realizou-se:\n",
    "* O número de processos paralelos (process)\n",
    "* Retorno das soluções sem loop (looples)\n",
    "* Foi adicionado uma restrição ao modelo para requerer a SOMA TOTAL DE FLUXOS ABSOLUTOS que NÃO DEVE SER MAIOR que ESTE VALOR X A MENOR SOMA POSSÍVEL DE FLUXOS ABSOLUTOS\n",
    "    * Ao se definir o valor de 1.1 (pfba_factor), a soma total dos FLUXOS ABSOLUTOS NÃO DEVE SER MAIS DE 10% MAIOR QUE A SOLUÇÃO pFBA \n",
    "    * Uma vez que a solução pFBA é aquela que minimiza otimamente a soma total do fluxo, o pfba_factor deve, se definido, ser maior que um. Definir esse valor pode levar a previsões mais realistas dos limites de fluxo efetivos (padrão Nenhum)."
   ]
  },
  {
   "cell_type": "code",
   "execution_count": null,
   "metadata": {},
   "outputs": [],
   "source": [
    "FVA = cobra.flux_analysis.flux_variability_analysis(model, processes = 8, loopless = True, pfba_factor = 1.1)"
   ]
  },
  {
   "cell_type": "code",
   "execution_count": null,
   "metadata": {},
   "outputs": [],
   "source": [
    "MEP_reactions = ['DXPS', 'DXPRIi', 'MEPCT', 'CDPMEK', 'MECDPS',\n",
    "                'MECDPDH_syn', 'IPDPS', 'DMATT',\n",
    "                'GRTT', 'DPPS', 'Growth', 'IPDPS_syn']"
   ]
  },
  {
   "cell_type": "code",
   "execution_count": null,
   "metadata": {},
   "outputs": [],
   "source": [
    "MEP_reacations_FVA = FVA.loc[MEP_reactions]\n",
    "MEP_reacations_FVA"
   ]
  },
  {
   "cell_type": "markdown",
   "metadata": {},
   "source": [
    "## Analisando o pFBA e adicionando numa lista antes de deletar reações"
   ]
  },
  {
   "cell_type": "code",
   "execution_count": 15,
   "metadata": {},
   "outputs": [],
   "source": [
    "results_list = []\n",
    "reactions = ['DMATT','GRTT', 'DPPS']\n",
    "for r in reactions:\n",
    "    reaction = model.reactions.get_by_id(r)\n",
    "    result = cobra.flux_analysis.pfba(model, fraction_of_optimum= 1.0, objective= {reaction: 0.9}, reactions= ['Growth','DMATT','GRTT', 'DPPS'])\n",
    "    results_list.append(result)"
   ]
  },
  {
   "cell_type": "code",
   "execution_count": 16,
   "metadata": {},
   "outputs": [
    {
     "data": {
      "text/plain": [
       "[<Solution 63.097 at 0x7fbc31a2f130>,\n",
       " <Solution 63.097 at 0x7fbc31a431c0>,\n",
       " <Solution 63.819 at 0x7fbc31a98c10>]"
      ]
     },
     "execution_count": 16,
     "metadata": {},
     "output_type": "execute_result"
    }
   ],
   "source": [
    "results_list"
   ]
  },
  {
   "cell_type": "markdown",
   "metadata": {},
   "source": [
    "## Removendo as reações "
   ]
  },
  {
   "cell_type": "code",
   "execution_count": null,
   "metadata": {},
   "outputs": [],
   "source": [
    "model.remove_reactions(['IPDPS_syn', 'DMPPS_syn'])"
   ]
  },
  {
   "cell_type": "code",
   "execution_count": null,
   "metadata": {},
   "outputs": [],
   "source": [
    "results_list_rmv = []\n",
    "reactions = ['DMATT','GRTT', 'DPPS']\n",
    "for r in reactions:\n",
    "    reaction = model.reactions.get_by_id(r)\n",
    "    result = cobra.flux_analysis.pfba(model, fraction_of_optimum= 1.0, objective= {reaction: 0.9}, reactions= ['Growth','DMATT','GRTT', 'DPPS'])\n",
    "    results_list_rmv.append(result)"
   ]
  },
  {
   "cell_type": "code",
   "execution_count": null,
   "metadata": {},
   "outputs": [],
   "source": [
    "results_list_rmv"
   ]
  },
  {
   "cell_type": "code",
   "execution_count": null,
   "metadata": {},
   "outputs": [],
   "source": [
    "pfba_solution.fluxes[\"Growth\"]"
   ]
  },
  {
   "cell_type": "markdown",
   "metadata": {},
   "source": [
    "## Analisando o pFBA e adicionando numa lista antes de deletar reações"
   ]
  },
  {
   "cell_type": "code",
   "execution_count": null,
   "metadata": {},
   "outputs": [],
   "source": [
    "results_list_2 = []\n",
    "reactions = ['DMATT','GRTT', 'DPPS']\n",
    "for r in reactions:\n",
    "    reaction = model.reactions.get_by_id(r)\n",
    "    result = cobra.flux_analysis.pfba(model, fraction_of_optimum= 1.0, objective= {reaction: 0.9}, reactions= ['Growth','DMATT','GRTT', 'DPPS'])\n",
    "    results_list.append(result)"
   ]
  },
  {
   "cell_type": "markdown",
   "metadata": {},
   "source": [
    "### Repetindo o FVA"
   ]
  },
  {
   "cell_type": "code",
   "execution_count": null,
   "metadata": {},
   "outputs": [],
   "source": [
    "FVA_2 = cobra.flux_analysis.flux_variability_analysis(model, processes = 8, loopless = True, pfba_factor = 1.1)"
   ]
  },
  {
   "cell_type": "code",
   "execution_count": null,
   "metadata": {},
   "outputs": [],
   "source": [
    "MEP_reactions = ['DXPS', 'DXPRIi', 'MEPCT', 'CDPMEK', 'MECDPS',\n",
    "                'MECDPDH_syn', 'IPDPS', 'DMATT',\n",
    "                'GRTT', 'DPPS', 'Growth']"
   ]
  },
  {
   "cell_type": "code",
   "execution_count": null,
   "metadata": {},
   "outputs": [],
   "source": [
    "MEP_reacations_FVA_2 = FVA_2.loc[MEP_reactions]\n",
    "MEP_reacations_FVA_2"
   ]
  },
  {
   "cell_type": "code",
   "execution_count": null,
   "metadata": {},
   "outputs": [],
   "source": [
    "results_list_2 = []\n",
    "reactions = ['DMATT','GRTT', 'DPPS']\n",
    "for r in reactions:\n",
    "    reaction = model.reactions.get_by_id(r)\n",
    "    result = cobra.flux_analysis.pfba(model, fraction_of_optimum= 1.0, objective= {reaction: 0.9}, reactions= ['Growth','DMATT','GRTT', 'DPPS'])\n",
    "    results_list_2.append(result)"
   ]
  },
  {
   "cell_type": "code",
   "execution_count": null,
   "metadata": {},
   "outputs": [],
   "source": [
    "results_list_2"
   ]
  },
  {
   "cell_type": "code",
   "execution_count": null,
   "metadata": {},
   "outputs": [],
   "source": [
    "FVA_h2mb4p_c = model.metabolites.h2mb4p_c.summary(fva = 1.0)"
   ]
  },
  {
   "cell_type": "code",
   "execution_count": null,
   "metadata": {},
   "outputs": [],
   "source": [
    "FVA_h2mb4p_c"
   ]
  },
  {
   "cell_type": "code",
   "execution_count": null,
   "metadata": {},
   "outputs": [],
   "source": [
    "model.reactions.get_by_id('IPDPS_syn')"
   ]
  },
  {
   "cell_type": "code",
   "execution_count": null,
   "metadata": {},
   "outputs": [],
   "source": [
    "model.reactions.get_by_id('IPDPS')"
   ]
  },
  {
   "cell_type": "code",
   "execution_count": null,
   "metadata": {},
   "outputs": [],
   "source": [
    "### DMATT pFBA -> NA MÃO!!!! :)"
   ]
  },
  {
   "cell_type": "code",
   "execution_count": null,
   "metadata": {},
   "outputs": [],
   "source": [
    "##### Alterando a função Objetivo para o DMATT"
   ]
  },
  {
   "cell_type": "code",
   "execution_count": 17,
   "metadata": {},
   "outputs": [],
   "source": [
    "model.objective = 'DMATT'\n",
    "fba_solution = model.optimize()\n",
    "pfba_solution = cobra.flux_analysis.pfba(model)"
   ]
  },
  {
   "cell_type": "code",
   "execution_count": 18,
   "metadata": {},
   "outputs": [
    {
     "data": {
      "text/plain": [
       "0.0"
      ]
     },
     "execution_count": 18,
     "metadata": {},
     "output_type": "execute_result"
    }
   ],
   "source": [
    "abs(fba_solution.fluxes[\"DMATT\"] - pfba_solution.fluxes[\n",
    "    \"DMATT\"])"
   ]
  },
  {
   "cell_type": "code",
   "execution_count": 19,
   "metadata": {},
   "outputs": [
    {
     "data": {
      "text/plain": [
       "True"
      ]
     },
     "execution_count": 19,
     "metadata": {},
     "output_type": "execute_result"
    }
   ],
   "source": [
    "import numpy as np\n",
    "np.isclose(\n",
    "    fba_solution.fluxes[\"Growth\"],\n",
    "    pfba_solution.fluxes[\"Growth\"]\n",
    ")"
   ]
  },
  {
   "cell_type": "code",
   "execution_count": 20,
   "metadata": {},
   "outputs": [
    {
     "data": {
      "text/plain": [
       "0.019320843091334985"
      ]
     },
     "execution_count": 20,
     "metadata": {},
     "output_type": "execute_result"
    }
   ],
   "source": [
    "pfba_solution.fluxes[\"DMATT\"]"
   ]
  },
  {
   "cell_type": "code",
   "execution_count": 21,
   "metadata": {},
   "outputs": [
    {
     "name": "stdout",
     "output_type": "stream",
     "text": [
      "Maximize\n",
      "1.0*DMATT - 1.0*DMATT_reverse_3a731\n"
     ]
    }
   ],
   "source": [
    "print (model.objective)"
   ]
  },
  {
   "cell_type": "code",
   "execution_count": 22,
   "metadata": {},
   "outputs": [
    {
     "data": {
      "text/plain": [
       "-1.8174125185489555e-20"
      ]
     },
     "execution_count": 22,
     "metadata": {},
     "output_type": "execute_result"
    }
   ],
   "source": [
    "pfba_solution.fluxes[\"Growth\"] ## Obs.: Com a mudança da Função Objetivo para o DMATT, o fluxo de Biomassa assumiu esse valor! "
   ]
  },
  {
   "cell_type": "code",
   "execution_count": null,
   "metadata": {},
   "outputs": [],
   "source": [
    "#####"
   ]
  },
  {
   "cell_type": "code",
   "execution_count": null,
   "metadata": {},
   "outputs": [],
   "source": [
    "### GRTT pFBA"
   ]
  },
  {
   "cell_type": "code",
   "execution_count": null,
   "metadata": {},
   "outputs": [],
   "source": [
    "# Mudando o objetivo para 'DPPS'\n",
    "model.objective = 'GRTT'\n",
    "\n",
    "# The upper bound should be 1000, so that we get\n",
    "# the actual optimal value\n",
    "model.reactions.get_by_id('GRTT').upper_bound = 1000.\n",
    "model.optimize().objective_value"
   ]
  },
  {
   "cell_type": "code",
   "execution_count": null,
   "metadata": {},
   "outputs": [],
   "source": [
    "print(model.objective)"
   ]
  },
  {
   "cell_type": "code",
   "execution_count": null,
   "metadata": {},
   "outputs": [],
   "source": [
    "model.objective = 'GRTT'\n",
    "fba_solution = model.optimize()\n",
    "pfba_solution = cobra.flux_analysis.pfba(model)"
   ]
  },
  {
   "cell_type": "code",
   "execution_count": null,
   "metadata": {},
   "outputs": [],
   "source": [
    "abs(fba_solution.fluxes[\"GRTT\"] - pfba_solution.fluxes[\n",
    "    \"GRTT\"])"
   ]
  },
  {
   "cell_type": "markdown",
   "metadata": {},
   "source": [
    "## 4.1 pFBA para as minhas reações de Interesse\n"
   ]
  },
  {
   "cell_type": "code",
   "execution_count": null,
   "metadata": {},
   "outputs": [],
   "source": [
    "cobra.flux_analysis.pfba(model, fraction_of_optimum= 1.0, objective= None, reactions= ['Growth','DMATT','GRTT', 'DPPS'])"
   ]
  },
  {
   "cell_type": "markdown",
   "metadata": {},
   "source": [
    "## 4.2 FVA para as minhas reações de Interesse"
   ]
  },
  {
   "cell_type": "code",
   "execution_count": null,
   "metadata": {},
   "outputs": [],
   "source": [
    "cobra.flux_analysis.flux_variability_analysis(model, reaction_list= ['Growth','DMATT','GRTT', 'DPPS'], loopless= False, fraction_of_optimum=1.0) ### Página 163 da Documentação"
   ]
  },
  {
   "cell_type": "markdown",
   "metadata": {},
   "source": [
    "## 4.3 FVA teste para os Terpenóides\n"
   ]
  },
  {
   "cell_type": "markdown",
   "metadata": {},
   "source": [
    "## 5. Variação do Fluxo (Variation in fluxes)"
   ]
  },
  {
   "cell_type": "code",
   "execution_count": null,
   "metadata": {},
   "outputs": [],
   "source": [
    "from cobra.flux_analysis import flux_variability_analysis"
   ]
  },
  {
   "cell_type": "code",
   "execution_count": null,
   "metadata": {},
   "outputs": [],
   "source": [
    "flux_variability_analysis(model, model.reactions.index['Growth','DMATT','GRTT', 'DPPS'])\n"
   ]
  },
  {
   "cell_type": "code",
   "execution_count": null,
   "metadata": {},
   "outputs": [],
   "source": [
    "## Índice das Reações\n",
    "model.reactions.index('Growth')"
   ]
  },
  {
   "cell_type": "code",
   "execution_count": null,
   "metadata": {},
   "outputs": [],
   "source": [
    "model.reactions.index('DMATT')"
   ]
  },
  {
   "cell_type": "code",
   "execution_count": null,
   "metadata": {},
   "outputs": [],
   "source": [
    "model.reactions.index('GRTT')"
   ]
  },
  {
   "cell_type": "code",
   "execution_count": null,
   "metadata": {},
   "outputs": [],
   "source": [
    "model.reactions.index('DPPS')"
   ]
  },
  {
   "cell_type": "code",
   "execution_count": null,
   "metadata": {},
   "outputs": [],
   "source": [
    "flux_variability_analysis(model, model.reactions[1502])"
   ]
  },
  {
   "cell_type": "code",
   "execution_count": null,
   "metadata": {},
   "outputs": [],
   "source": [
    "flux_variability_analysis(model, model.reactions[406])"
   ]
  },
  {
   "cell_type": "code",
   "execution_count": null,
   "metadata": {},
   "outputs": [],
   "source": [
    "flux_variability_analysis(model, model.reactions[625])"
   ]
  },
  {
   "cell_type": "code",
   "execution_count": null,
   "metadata": {},
   "outputs": [],
   "source": [
    "flux_variability_analysis(model, model.reactions[416])"
   ]
  },
  {
   "cell_type": "code",
   "execution_count": null,
   "metadata": {},
   "outputs": [],
   "source": [
    "# Eu tenho a variação do 'mínimo' e do 'máximo' que aquele fluxo consegue assumir!\n",
    "model.summary(fva=0.95)"
   ]
  },
  {
   "cell_type": "code",
   "execution_count": null,
   "metadata": {},
   "outputs": [],
   "source": []
  },
  {
   "cell_type": "markdown",
   "metadata": {},
   "source": [
    "# 5. FVA"
   ]
  },
  {
   "cell_type": "markdown",
   "metadata": {},
   "source": [
    "### 5.1 Examinando as trocas "
   ]
  },
  {
   "cell_type": "markdown",
   "metadata": {},
   "source": [
    "#### iGBBB08 "
   ]
  },
  {
   "cell_type": "code",
   "execution_count": null,
   "metadata": {},
   "outputs": [],
   "source": [
    "exchanges = model.exchanges\n",
    "print(\"Number of exchange components: {}\".format(len(exchanges)))\n",
    "print(\"Exchange reaction \\t Lower flux\")\n",
    "for exchange in exchanges:\n",
    "    reaction = str(exchange)\n",
    "    lb = str(exchange.lower_bound)\n",
    "    print(reaction + '\\t' + lb)\n",
    "\n",
    "    ## São 130 componentes de troca . Os que estão em 0.0 no 'flux' são os que o modelo não consegue absorver, ou seja, praticamente só exporta.\n",
    "    ## Os que estão negativos no 'Lower' são os que estão no meio de cultivo que fazem parte da criação do modelo"
   ]
  },
  {
   "cell_type": "markdown",
   "metadata": {},
   "source": [
    "### 5.2 Ajuste na troca de luz (fótons) e fazer um FVA (1°Modificação)"
   ]
  },
  {
   "cell_type": "code",
   "execution_count": null,
   "metadata": {},
   "outputs": [],
   "source": [
    "model.reactions.EX_photon_e.lower_bound = -1000.0"
   ]
  },
  {
   "cell_type": "code",
   "execution_count": null,
   "metadata": {},
   "outputs": [],
   "source": [
    "model.summary(fva = 0.95)"
   ]
  },
  {
   "cell_type": "code",
   "execution_count": null,
   "metadata": {},
   "outputs": [],
   "source": [
    "### Análise do FVA após a alteração\n",
    "FVA = cobra.flux_analysis.flux_variability_analysis(model, processes = 8, loopless = True, pfba_factor = 1.1)"
   ]
  },
  {
   "cell_type": "code",
   "execution_count": null,
   "metadata": {},
   "outputs": [],
   "source": [
    "MEP_reactions = ['DXPS', 'DXPRIi', 'MEPCT', 'CDPMEK', 'MECDPS',\n",
    "                'MECDPDH_syn', 'IPDPS', 'DMATT',\n",
    "                'GRTT', 'DPPS', 'Growth', 'IPDPS_syn']"
   ]
  },
  {
   "cell_type": "code",
   "execution_count": null,
   "metadata": {},
   "outputs": [],
   "source": [
    "MEP_reacations_FVA = FVA.loc[MEP_reactions]\n",
    "MEP_reacations_FVA"
   ]
  },
  {
   "cell_type": "markdown",
   "metadata": {},
   "source": [
    "### Limitando o fluxo de fótons (2°Modificação)"
   ]
  },
  {
   "cell_type": "code",
   "execution_count": null,
   "metadata": {},
   "outputs": [],
   "source": [
    "model.reactions.EX_photon_e.lower_bound = -25.0"
   ]
  },
  {
   "cell_type": "code",
   "execution_count": null,
   "metadata": {},
   "outputs": [],
   "source": [
    "model.summary(fva = 0.95)"
   ]
  },
  {
   "cell_type": "markdown",
   "metadata": {},
   "source": [
    "## 6.Inspecionando a Visualização em Gráfico"
   ]
  },
  {
   "cell_type": "markdown",
   "metadata": {},
   "source": [
    "### Carregando as Bibliotecas"
   ]
  },
  {
   "cell_type": "code",
   "execution_count": null,
   "metadata": {},
   "outputs": [],
   "source": [
    "\n",
    "import escher\n",
    "from escher import Builder\n",
    "import cobra\n",
    "from time import sleep\n",
    "escher.rc['never_ask_before_quit'] = True"
   ]
  },
  {
   "cell_type": "code",
   "execution_count": null,
   "metadata": {},
   "outputs": [],
   "source": [
    "builder = Builder(model_json='/mnt/d/Document/Mestrado/Dissertação/Resultados/1_Reconstrução_Metabólica/1_carveme/Jupyter_Notebook_iGBBB/igbb08.json')\n",
    "builder"
   ]
  },
  {
   "cell_type": "code",
   "execution_count": null,
   "metadata": {},
   "outputs": [],
   "source": []
  },
  {
   "cell_type": "markdown",
   "metadata": {},
   "source": [
    "## Criando o Histograma"
   ]
  },
  {
   "cell_type": "code",
   "execution_count": null,
   "metadata": {},
   "outputs": [],
   "source": [
    "pip install pandas"
   ]
  },
  {
   "cell_type": "code",
   "execution_count": null,
   "metadata": {},
   "outputs": [],
   "source": [
    "import pandas \n"
   ]
  },
  {
   "cell_type": "code",
   "execution_count": null,
   "metadata": {},
   "outputs": [],
   "source": [
    "import pandas as pd"
   ]
  },
  {
   "cell_type": "code",
   "execution_count": null,
   "metadata": {},
   "outputs": [],
   "source": [
    "pd?"
   ]
  },
  {
   "cell_type": "code",
   "execution_count": null,
   "metadata": {},
   "outputs": [],
   "source": [
    "fva_mep_df= pd.read_csv('/mnt/c/Users/igors/OneDrive/Documentos/tabela.csv')"
   ]
  },
  {
   "cell_type": "code",
   "execution_count": null,
   "metadata": {},
   "outputs": [],
   "source": [
    "fva_mep_df.head()\n"
   ]
  },
  {
   "cell_type": "code",
   "execution_count": null,
   "metadata": {},
   "outputs": [],
   "source": [
    "fva_mep_df.tail()"
   ]
  },
  {
   "cell_type": "code",
   "execution_count": null,
   "metadata": {},
   "outputs": [],
   "source": [
    "fva_mep_df.index"
   ]
  },
  {
   "cell_type": "code",
   "execution_count": null,
   "metadata": {},
   "outputs": [],
   "source": [
    "fva_mep_df.columns.values"
   ]
  },
  {
   "cell_type": "code",
   "execution_count": null,
   "metadata": {},
   "outputs": [],
   "source": [
    "fva_mep_df.columns"
   ]
  },
  {
   "cell_type": "code",
   "execution_count": null,
   "metadata": {},
   "outputs": [],
   "source": [
    "fva_mep_df.describe()"
   ]
  },
  {
   "cell_type": "code",
   "execution_count": null,
   "metadata": {},
   "outputs": [],
   "source": [
    "fva_mep_df.T"
   ]
  },
  {
   "cell_type": "code",
   "execution_count": null,
   "metadata": {},
   "outputs": [],
   "source": [
    "fva_mep_df[:5]"
   ]
  },
  {
   "cell_type": "code",
   "execution_count": null,
   "metadata": {},
   "outputs": [],
   "source": [
    "fva_df = fva_mep_df.T"
   ]
  },
  {
   "cell_type": "code",
   "execution_count": null,
   "metadata": {},
   "outputs": [],
   "source": [
    "fva_df"
   ]
  },
  {
   "cell_type": "code",
   "execution_count": null,
   "metadata": {},
   "outputs": [],
   "source": [
    "fva_df.columns = ['DXPS','DXPRI','MEPCT','CDPMEK','MECDPS','MECDPDH_syn','IPDPS','DMATT','GRTT','DPPS','Growth','IPDPS_syn']"
   ]
  },
  {
   "cell_type": "code",
   "execution_count": null,
   "metadata": {},
   "outputs": [],
   "source": [
    "fva_df"
   ]
  },
  {
   "cell_type": "code",
   "execution_count": null,
   "metadata": {},
   "outputs": [],
   "source": [
    "fva_df['DXPS']"
   ]
  },
  {
   "cell_type": "code",
   "execution_count": null,
   "metadata": {},
   "outputs": [],
   "source": [
    "fva_df['DXPS'].value_counts().plot(kind='hist')"
   ]
  },
  {
   "cell_type": "code",
   "execution_count": null,
   "metadata": {},
   "outputs": [],
   "source": [
    "help(model.metabolites.h2mb4p_c.summary)"
   ]
  },
  {
   "cell_type": "code",
   "execution_count": null,
   "metadata": {},
   "outputs": [],
   "source": [
    "df = pd.DataFrame({\n",
    "    'FVA_máximo': {0.023353:0.023353, 0.023343:0.023343, 0.023343:0.023343, 0.023343:0.023343, 0.023343:0.023343, 0.023343:0.023343, 0.000000:0.000000, 0.002123:0.002123, 0.002123:0.002123, 0.002121:0.002121, 0.021897:0.021897, 0.000000:0.021220}\n",
    "}, index=['DXPS','DXPRI','MEPCT','CDPMEK','MECDPS','MECDPDH_syn','IPDPS','DMATT','GRTT','DPPS','Growth','IPDPS_syn'])\n",
    "hist = df.hist(bins=3)"
   ]
  },
  {
   "cell_type": "code",
   "execution_count": null,
   "metadata": {},
   "outputs": [],
   "source": [
    "df = pd.DataFrame({\n",
    "    'FVA_máximo': [0.023353, 0.023343, 0.023343, 0.023343, 0.023343, 0.023343, 0.0, 0.002123, 0.002123, 0.002121,0.021897, 0.0],\n",
    "    'FVA_mínimo': [0.023353, 0.023343, 0.023343, 0.023343, 0.023343, 0.023343, 0.0, 0.002123, 0.002123, 0.002121, 0.021897, 0.02122]\n",
    "    }, index=['DXPS','DXPRI','MEPCT','CDPMEK','MECDPS','MECDPDH_syn','IPDPS','DMATT','GRTT','DPPS','Growth','IPDPS_syn'])\n",
    "hist = df.hist(bins=12)"
   ]
  },
  {
   "cell_type": "code",
   "execution_count": null,
   "metadata": {},
   "outputs": [],
   "source": [
    "fva_df['DXPS']"
   ]
  },
  {
   "cell_type": "code",
   "execution_count": null,
   "metadata": {},
   "outputs": [],
   "source": [
    "### Alterar -> fazer a remoção de reações"
   ]
  },
  {
   "cell_type": "code",
   "execution_count": null,
   "metadata": {},
   "outputs": [],
   "source": [
    "model.remove_reactions(['IPDPS_syn', 'DMPPS_syn'])"
   ]
  },
  {
   "cell_type": "code",
   "execution_count": 24,
   "metadata": {},
   "outputs": [
    {
     "data": {
      "text/plain": [
       "715"
      ]
     },
     "execution_count": 24,
     "metadata": {},
     "output_type": "execute_result"
    }
   ],
   "source": [
    "model.reactions.index('IPDPS_syn')"
   ]
  },
  {
   "cell_type": "code",
   "execution_count": 25,
   "metadata": {},
   "outputs": [
    {
     "data": {
      "text/plain": [
       "408"
      ]
     },
     "execution_count": 25,
     "metadata": {},
     "output_type": "execute_result"
    }
   ],
   "source": [
    "model.reactions.index('DMPPS_syn')"
   ]
  },
  {
   "cell_type": "code",
   "execution_count": null,
   "metadata": {},
   "outputs": [],
   "source": [
    "results_list = []\n",
    "reactions = ['DMATT','GRTT', 'DPPS']\n",
    "for r in reactions:\n",
    "    reaction = model.reactions.get_by_id(r)\n",
    "    result = cobra.flux_analysis.pfba(model, fraction_of_optimum= 1.0, objective= {reaction: 0.9}, reactions= ['Growth','DMATT','GRTT', 'DPPS'])\n",
    "    results_list.append(result)"
   ]
  },
  {
   "cell_type": "code",
   "execution_count": null,
   "metadata": {},
   "outputs": [],
   "source": [
    "######"
   ]
  },
  {
   "cell_type": "markdown",
   "metadata": {},
   "source": [
    "Brincando em setar o CO2"
   ]
  },
  {
   "cell_type": "code",
   "execution_count": null,
   "metadata": {},
   "outputs": [],
   "source": []
  }
 ],
 "metadata": {
  "interpreter": {
   "hash": "962791cc9e53ba2ebdc358e8f01f57d5bff7a25ceff41aaaaea7469f8979dc65"
  },
  "kernelspec": {
   "display_name": "Python 3 (ipykernel)",
   "language": "python",
   "name": "python3"
  },
  "language_info": {
   "codemirror_mode": {
    "name": "ipython",
    "version": 3
   },
   "file_extension": ".py",
   "mimetype": "text/x-python",
   "name": "python",
   "nbconvert_exporter": "python",
   "pygments_lexer": "ipython3",
   "version": "3.9.12"
  }
 },
 "nbformat": 4,
 "nbformat_minor": 4
}
