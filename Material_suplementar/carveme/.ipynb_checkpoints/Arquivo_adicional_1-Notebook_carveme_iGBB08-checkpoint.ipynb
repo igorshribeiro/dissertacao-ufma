{
 "cells": [
  {
   "cell_type": "markdown",
   "id": "f9f240e0",
   "metadata": {},
   "source": [
    "# Notebook 1 - Explorando o GSM Gemynocystis sp. GBB08 criado com CarveMe"
   ]
  },
  {
   "cell_type": "markdown",
   "id": "5f7fb78d",
   "metadata": {},
   "source": [
    "## Apresentação do Notebook"
   ]
  },
  {
   "cell_type": "markdown",
   "id": "cbd746a4",
   "metadata": {},
   "source": [
    "Neste notebook consta as intervenções no modelo da Geminocystis GBBB08 realizado pelo carveme.  "
   ]
  },
  {
   "cell_type": "code",
   "execution_count": 1,
   "id": "6074b0a3",
   "metadata": {},
   "outputs": [],
   "source": [
    "import cobra"
   ]
  },
  {
   "cell_type": "code",
   "execution_count": null,
   "id": "2e4799bd",
   "metadata": {},
   "outputs": [],
   "source": [
    "import pandas as pd"
   ]
  },
  {
   "cell_type": "markdown",
   "id": "02652bae",
   "metadata": {},
   "source": [
    "## 1. Carregando modelo "
   ]
  },
  {
   "cell_type": "code",
   "execution_count": 2,
   "id": "ee975523",
   "metadata": {},
   "outputs": [
    {
     "name": "stdout",
     "output_type": "stream",
     "text": [
      "Scaling...\n",
      " A: min|aij| =  1.000e+00  max|aij| =  1.000e+00  ratio =  1.000e+00\n",
      "Problem data seem to be well scaled\n"
     ]
    }
   ],
   "source": [
    "model = cobra.io.read_sbml_model('/mnt/d/Document/Mestrado/Dissertação/dissertacao-ufma/Material_suplementar/carveme/model_sbml/iGbb08.xml')\n"
   ]
  },
  {
   "cell_type": "markdown",
   "id": "43904f9d",
   "metadata": {},
   "source": [
    "## 2. Inspecionando o modelo "
   ]
  },
  {
   "cell_type": "code",
   "execution_count": 3,
   "id": "a9b61963",
   "metadata": {},
   "outputs": [
    {
     "data": {
      "text/html": [
       "\n",
       "        <table>\n",
       "            <tr>\n",
       "                <td><strong>Name</strong></td>\n",
       "                <td>iGbb08</td>\n",
       "            </tr><tr>\n",
       "                <td><strong>Memory address</strong></td>\n",
       "                <td>0x07fe17eae0f40</td>\n",
       "            </tr><tr>\n",
       "                <td><strong>Number of metabolites</strong></td>\n",
       "                <td>1127</td>\n",
       "            </tr><tr>\n",
       "                <td><strong>Number of reactions</strong></td>\n",
       "                <td>1509</td>\n",
       "            </tr><tr>\n",
       "                <td><strong>Number of groups</strong></td>\n",
       "                <td>0</td>\n",
       "            </tr><tr>\n",
       "                <td><strong>Objective expression</strong></td>\n",
       "                <td>1.0*Growth - 1.0*Growth_reverse_699ae</td>\n",
       "            </tr><tr>\n",
       "                <td><strong>Compartments</strong></td>\n",
       "                <td>cytosol, periplasm, extracellular space, thylakoid</td>\n",
       "            </tr>\n",
       "          </table>"
      ],
      "text/plain": [
       "<Model iGbb08 at 0x7fe17eae0f40>"
      ]
     },
     "execution_count": 3,
     "metadata": {},
     "output_type": "execute_result"
    }
   ],
   "source": [
    "model"
   ]
  },
  {
   "cell_type": "code",
   "execution_count": 4,
   "id": "32a9ed54",
   "metadata": {},
   "outputs": [
    {
     "name": "stdout",
     "output_type": "stream",
     "text": [
      "Model information\n",
      "Model ID is: iGbb08\n",
      "Number of reactions: 1509\n",
      "Number of metabolites: 1127\n",
      "Number of genes: 758\n",
      "Model compartments:\n",
      "C_c\tcytosol\n",
      "C_p\tperiplasm\n",
      "C_e\textracellular space\n",
      "C_u\tthylakoid\n",
      "\n",
      "################################\n",
      "\n"
     ]
    }
   ],
   "source": [
    "model_list = [model]\n",
    "for model in model_list:\n",
    "    num_reactions = len(model.reactions)\n",
    "    num_metabolites = len(model.metabolites)\n",
    "    num_genes = len(model.genes)\n",
    "\n",
    "    print(\"Model information\")\n",
    "    print(\"Model ID is: {}\".format(model.id))\n",
    "    print(\"Number of reactions: {}\".format(num_reactions))\n",
    "    print(\"Number of metabolites: {}\".format(num_metabolites))\n",
    "    print(\"Number of genes: {}\".format(num_genes))\n",
    "    print(\"Model compartments:\")\n",
    "    for k, v in model.compartments.items():\n",
    "        print(k + '\\t' + v)\n",
    "    print('\\n################################\\n')"
   ]
  },
  {
   "cell_type": "markdown",
   "id": "521c2344",
   "metadata": {},
   "source": [
    "# Inspecionando a Função Objetivo (FBA) e os Fluxos de Troca (FVA)"
   ]
  },
  {
   "cell_type": "markdown",
   "id": "d30df6b3",
   "metadata": {},
   "source": [
    "# 3. Inspecionando FBA"
   ]
  },
  {
   "cell_type": "markdown",
   "id": "4e2b8ff5",
   "metadata": {},
   "source": [
    "As inspeções serão para os três metabólitos de interesse e primeiramente serão realizadas apenas a mudança da função objetivo.\n",
    "Contudo, deve-se avaliar se há formação de biomassa! "
   ]
  },
  {
   "cell_type": "code",
   "execution_count": 5,
   "id": "762ad8e0",
   "metadata": {},
   "outputs": [
    {
     "data": {
      "text/html": [
       "<h3>Objective</h3><p>1.0 Growth = 0.021897155983588653</p><h4>Uptake</h4><table border=\"1\" class=\"dataframe\">\n",
       "  <thead>\n",
       "    <tr style=\"text-align: right;\">\n",
       "      <th>Metabolite</th>\n",
       "      <th>Reaction</th>\n",
       "      <th>Flux</th>\n",
       "      <th>C-Number</th>\n",
       "      <th>C-Flux</th>\n",
       "    </tr>\n",
       "  </thead>\n",
       "  <tbody>\n",
       "    <tr>\n",
       "      <td>ca2_e</td>\n",
       "      <td>EX_ca2_e</td>\n",
       "      <td>0.0001104</td>\n",
       "      <td>0</td>\n",
       "      <td>0.00%</td>\n",
       "    </tr>\n",
       "    <tr>\n",
       "      <td>cit_e</td>\n",
       "      <td>EX_cit_e</td>\n",
       "      <td>0.0003311</td>\n",
       "      <td>6</td>\n",
       "      <td>0.22%</td>\n",
       "    </tr>\n",
       "    <tr>\n",
       "      <td>cl_e</td>\n",
       "      <td>EX_cl_e</td>\n",
       "      <td>0.0001104</td>\n",
       "      <td>0</td>\n",
       "      <td>0.00%</td>\n",
       "    </tr>\n",
       "    <tr>\n",
       "      <td>co2_e</td>\n",
       "      <td>EX_co2_e</td>\n",
       "      <td>0.9028</td>\n",
       "      <td>1</td>\n",
       "      <td>99.78%</td>\n",
       "    </tr>\n",
       "    <tr>\n",
       "      <td>cobalt2_e</td>\n",
       "      <td>EX_cobalt2_e</td>\n",
       "      <td>2.121E-06</td>\n",
       "      <td>0</td>\n",
       "      <td>0.00%</td>\n",
       "    </tr>\n",
       "    <tr>\n",
       "      <td>cu2_e</td>\n",
       "      <td>EX_cu2_e</td>\n",
       "      <td>1.503E-05</td>\n",
       "      <td>0</td>\n",
       "      <td>0.00%</td>\n",
       "    </tr>\n",
       "    <tr>\n",
       "      <td>fe2_e</td>\n",
       "      <td>EX_fe2_e</td>\n",
       "      <td>0.0001424</td>\n",
       "      <td>0</td>\n",
       "      <td>0.00%</td>\n",
       "    </tr>\n",
       "    <tr>\n",
       "      <td>fe3_e</td>\n",
       "      <td>EX_fe3_e</td>\n",
       "      <td>0.0001656</td>\n",
       "      <td>0</td>\n",
       "      <td>0.00%</td>\n",
       "    </tr>\n",
       "    <tr>\n",
       "      <td>h2o_e</td>\n",
       "      <td>EX_h2o_e</td>\n",
       "      <td>0.3049</td>\n",
       "      <td>0</td>\n",
       "      <td>0.00%</td>\n",
       "    </tr>\n",
       "    <tr>\n",
       "      <td>k_e</td>\n",
       "      <td>EX_k_e</td>\n",
       "      <td>0.004139</td>\n",
       "      <td>0</td>\n",
       "      <td>0.00%</td>\n",
       "    </tr>\n",
       "    <tr>\n",
       "      <td>mg2_e</td>\n",
       "      <td>EX_mg2_e</td>\n",
       "      <td>0.000184</td>\n",
       "      <td>0</td>\n",
       "      <td>0.00%</td>\n",
       "    </tr>\n",
       "    <tr>\n",
       "      <td>mn2_e</td>\n",
       "      <td>EX_mn2_e</td>\n",
       "      <td>1.465E-05</td>\n",
       "      <td>0</td>\n",
       "      <td>0.00%</td>\n",
       "    </tr>\n",
       "    <tr>\n",
       "      <td>nh4_e</td>\n",
       "      <td>EX_nh4_e</td>\n",
       "      <td>0.2374</td>\n",
       "      <td>0</td>\n",
       "      <td>0.00%</td>\n",
       "    </tr>\n",
       "    <tr>\n",
       "      <td>photon_e</td>\n",
       "      <td>EX_photon_e</td>\n",
       "      <td>10</td>\n",
       "      <td>0</td>\n",
       "      <td>0.00%</td>\n",
       "    </tr>\n",
       "    <tr>\n",
       "      <td>pi_e</td>\n",
       "      <td>EX_pi_e</td>\n",
       "      <td>0.02091</td>\n",
       "      <td>0</td>\n",
       "      <td>0.00%</td>\n",
       "    </tr>\n",
       "    <tr>\n",
       "      <td>so4_e</td>\n",
       "      <td>EX_so4_e</td>\n",
       "      <td>0.005315</td>\n",
       "      <td>0</td>\n",
       "      <td>0.00%</td>\n",
       "    </tr>\n",
       "    <tr>\n",
       "      <td>zn2_e</td>\n",
       "      <td>EX_zn2_e</td>\n",
       "      <td>7.231E-06</td>\n",
       "      <td>0</td>\n",
       "      <td>0.00%</td>\n",
       "    </tr>\n",
       "  </tbody>\n",
       "</table><h4>Secretion</h4><table border=\"1\" class=\"dataframe\">\n",
       "  <thead>\n",
       "    <tr style=\"text-align: right;\">\n",
       "      <th>Metabolite</th>\n",
       "      <th>Reaction</th>\n",
       "      <th>Flux</th>\n",
       "      <th>C-Number</th>\n",
       "      <th>C-Flux</th>\n",
       "    </tr>\n",
       "  </thead>\n",
       "  <tbody>\n",
       "    <tr>\n",
       "      <td>h_e</td>\n",
       "      <td>EX_h_e</td>\n",
       "      <td>-0.2066</td>\n",
       "      <td>0</td>\n",
       "      <td>0.00%</td>\n",
       "    </tr>\n",
       "    <tr>\n",
       "      <td>o2_e</td>\n",
       "      <td>EX_o2_e</td>\n",
       "      <td>-0.943</td>\n",
       "      <td>0</td>\n",
       "      <td>0.00%</td>\n",
       "    </tr>\n",
       "    <tr>\n",
       "      <td>4hba_c</td>\n",
       "      <td>sink_4hba_c</td>\n",
       "      <td>-4.729E-06</td>\n",
       "      <td>7</td>\n",
       "      <td>100.00%</td>\n",
       "    </tr>\n",
       "  </tbody>\n",
       "</table>"
      ],
      "text/plain": [
       "<cobra.summary.model_summary.ModelSummary at 0x7fe13a41abb0>"
      ]
     },
     "execution_count": 5,
     "metadata": {},
     "output_type": "execute_result"
    }
   ],
   "source": [
    "# Quais são os metabólitos que estão retornando para mim?\n",
    "## Uptake - o que a simulação consegue captar do meio \n",
    "## Secretion - Simula o que a célula iria exportar!\n",
    "\n",
    "model.summary() #mmol/gDW/h\n",
    "\n"
   ]
  },
  {
   "cell_type": "code",
   "execution_count": 6,
   "id": "7ef0642c",
   "metadata": {},
   "outputs": [
    {
     "name": "stdout",
     "output_type": "stream",
     "text": [
      "<Solution 0.022 at 0x7fe139f9be20>\n"
     ]
    }
   ],
   "source": [
    "solution = model.optimize()\n",
    "print(solution)\n"
   ]
  },
  {
   "cell_type": "code",
   "execution_count": 7,
   "id": "9e6484d9",
   "metadata": {},
   "outputs": [
    {
     "data": {
      "text/plain": [
       "{'EX_h2o_e': 10.0,\n",
       " 'EX_hco3_e': 10.0,\n",
       " 'EX_cl_e': 10.0,\n",
       " 'EX_pi_e': 10.0,\n",
       " 'EX_nh4_e': 10.0,\n",
       " 'EX_fe3_e': 10.0,\n",
       " 'EX_k_e': 10.0,\n",
       " 'EX_ca2_e': 10.0,\n",
       " 'EX_cit_e': 10.0,\n",
       " 'EX_mg2_e': 10.0,\n",
       " 'EX_mn2_e': 10.0,\n",
       " 'EX_cobalt2_e': 10.0,\n",
       " 'EX_zn2_e': 10.0,\n",
       " 'EX_co2_e': 10.0,\n",
       " 'EX_o2_e': 10.0,\n",
       " 'EX_fe2_e': 10.0,\n",
       " 'EX_mobd_e': 10.0,\n",
       " 'EX_no3_e': 10.0,\n",
       " 'EX_photon_e': 10.0,\n",
       " 'EX_so4_e': 10.0,\n",
       " 'EX_cu2_e': 10.0}"
      ]
     },
     "execution_count": 7,
     "metadata": {},
     "output_type": "execute_result"
    }
   ],
   "source": [
    "model.medium  #meio de cultivo"
   ]
  },
  {
   "cell_type": "markdown",
   "id": "bb62c7db",
   "metadata": {},
   "source": [
    "### 3.1 - Principais reações de consumo e produção de energia"
   ]
  },
  {
   "cell_type": "code",
   "execution_count": null,
   "id": "edcd9064",
   "metadata": {},
   "outputs": [],
   "source": [
    "model.metabolites.atp_c.summary()"
   ]
  },
  {
   "cell_type": "code",
   "execution_count": null,
   "id": "3edac6b8",
   "metadata": {},
   "outputs": [],
   "source": [
    "model.reactions.Growth.summary() #teste de reação de Biomassa"
   ]
  },
  {
   "cell_type": "markdown",
   "id": "b5221aca",
   "metadata": {},
   "source": [
    "## 4 - FVA, pFBA com Restrições ao Fenótipo do Modelo"
   ]
  },
  {
   "cell_type": "code",
   "execution_count": 8,
   "id": "c6a64214",
   "metadata": {},
   "outputs": [],
   "source": [
    "from cobra.flux_analysis import flux_variability_analysis"
   ]
  },
  {
   "cell_type": "code",
   "execution_count": 9,
   "id": "bea8475e",
   "metadata": {},
   "outputs": [
    {
     "data": {
      "text/html": [
       "<div>\n",
       "<style scoped>\n",
       "    .dataframe tbody tr th:only-of-type {\n",
       "        vertical-align: middle;\n",
       "    }\n",
       "\n",
       "    .dataframe tbody tr th {\n",
       "        vertical-align: top;\n",
       "    }\n",
       "\n",
       "    .dataframe thead th {\n",
       "        text-align: right;\n",
       "    }\n",
       "</style>\n",
       "<table border=\"1\" class=\"dataframe\">\n",
       "  <thead>\n",
       "    <tr style=\"text-align: right;\">\n",
       "      <th></th>\n",
       "      <th>minimum</th>\n",
       "      <th>maximum</th>\n",
       "    </tr>\n",
       "  </thead>\n",
       "  <tbody>\n",
       "    <tr>\n",
       "      <th>Growth</th>\n",
       "      <td>0.021897</td>\n",
       "      <td>0.021897</td>\n",
       "    </tr>\n",
       "  </tbody>\n",
       "</table>\n",
       "</div>"
      ],
      "text/plain": [
       "         minimum   maximum\n",
       "Growth  0.021897  0.021897"
      ]
     },
     "execution_count": 9,
     "metadata": {},
     "output_type": "execute_result"
    }
   ],
   "source": [
    "flux_variability_analysis(model, model.reactions[1502])\n"
   ]
  },
  {
   "cell_type": "code",
   "execution_count": 10,
   "id": "1a6857d1",
   "metadata": {},
   "outputs": [
    {
     "data": {
      "text/html": [
       "<div>\n",
       "<style scoped>\n",
       "    .dataframe tbody tr th:only-of-type {\n",
       "        vertical-align: middle;\n",
       "    }\n",
       "\n",
       "    .dataframe tbody tr th {\n",
       "        vertical-align: top;\n",
       "    }\n",
       "\n",
       "    .dataframe thead th {\n",
       "        text-align: right;\n",
       "    }\n",
       "</style>\n",
       "<table border=\"1\" class=\"dataframe\">\n",
       "  <thead>\n",
       "    <tr style=\"text-align: right;\">\n",
       "      <th></th>\n",
       "      <th>minimum</th>\n",
       "      <th>maximum</th>\n",
       "    </tr>\n",
       "  </thead>\n",
       "  <tbody>\n",
       "    <tr>\n",
       "      <th>DMATT</th>\n",
       "      <td>0.002123</td>\n",
       "      <td>0.002123</td>\n",
       "    </tr>\n",
       "  </tbody>\n",
       "</table>\n",
       "</div>"
      ],
      "text/plain": [
       "        minimum   maximum\n",
       "DMATT  0.002123  0.002123"
      ]
     },
     "execution_count": 10,
     "metadata": {},
     "output_type": "execute_result"
    }
   ],
   "source": [
    "flux_variability_analysis(model, model.reactions[406])"
   ]
  },
  {
   "cell_type": "code",
   "execution_count": 11,
   "id": "75a6fef6",
   "metadata": {},
   "outputs": [
    {
     "data": {
      "text/html": [
       "<div>\n",
       "<style scoped>\n",
       "    .dataframe tbody tr th:only-of-type {\n",
       "        vertical-align: middle;\n",
       "    }\n",
       "\n",
       "    .dataframe tbody tr th {\n",
       "        vertical-align: top;\n",
       "    }\n",
       "\n",
       "    .dataframe thead th {\n",
       "        text-align: right;\n",
       "    }\n",
       "</style>\n",
       "<table border=\"1\" class=\"dataframe\">\n",
       "  <thead>\n",
       "    <tr style=\"text-align: right;\">\n",
       "      <th></th>\n",
       "      <th>minimum</th>\n",
       "      <th>maximum</th>\n",
       "    </tr>\n",
       "  </thead>\n",
       "  <tbody>\n",
       "    <tr>\n",
       "      <th>GRTT</th>\n",
       "      <td>0.002123</td>\n",
       "      <td>0.002123</td>\n",
       "    </tr>\n",
       "  </tbody>\n",
       "</table>\n",
       "</div>"
      ],
      "text/plain": [
       "       minimum   maximum\n",
       "GRTT  0.002123  0.002123"
      ]
     },
     "execution_count": 11,
     "metadata": {},
     "output_type": "execute_result"
    }
   ],
   "source": [
    "flux_variability_analysis(model, model.reactions[625])"
   ]
  },
  {
   "cell_type": "code",
   "execution_count": 12,
   "id": "dc2469c7",
   "metadata": {},
   "outputs": [
    {
     "data": {
      "text/html": [
       "<div>\n",
       "<style scoped>\n",
       "    .dataframe tbody tr th:only-of-type {\n",
       "        vertical-align: middle;\n",
       "    }\n",
       "\n",
       "    .dataframe tbody tr th {\n",
       "        vertical-align: top;\n",
       "    }\n",
       "\n",
       "    .dataframe thead th {\n",
       "        text-align: right;\n",
       "    }\n",
       "</style>\n",
       "<table border=\"1\" class=\"dataframe\">\n",
       "  <thead>\n",
       "    <tr style=\"text-align: right;\">\n",
       "      <th></th>\n",
       "      <th>minimum</th>\n",
       "      <th>maximum</th>\n",
       "    </tr>\n",
       "  </thead>\n",
       "  <tbody>\n",
       "    <tr>\n",
       "      <th>DPPS</th>\n",
       "      <td>0.002121</td>\n",
       "      <td>0.002121</td>\n",
       "    </tr>\n",
       "  </tbody>\n",
       "</table>\n",
       "</div>"
      ],
      "text/plain": [
       "       minimum   maximum\n",
       "DPPS  0.002121  0.002121"
      ]
     },
     "execution_count": 12,
     "metadata": {},
     "output_type": "execute_result"
    }
   ],
   "source": [
    "flux_variability_analysis(model, model.reactions[416])"
   ]
  },
  {
   "cell_type": "code",
   "execution_count": 13,
   "id": "fc267776",
   "metadata": {},
   "outputs": [
    {
     "data": {
      "text/html": [
       "<h3>Objective</h3><p>1.0 Growth = 0.021897155983588913</p><h4>Uptake</h4><table border=\"1\" class=\"dataframe\">\n",
       "  <thead>\n",
       "    <tr style=\"text-align: right;\">\n",
       "      <th>Metabolite</th>\n",
       "      <th>Reaction</th>\n",
       "      <th>Flux</th>\n",
       "      <th>Range</th>\n",
       "      <th>C-Number</th>\n",
       "      <th>C-Flux</th>\n",
       "    </tr>\n",
       "  </thead>\n",
       "  <tbody>\n",
       "    <tr>\n",
       "      <td>ca2_e</td>\n",
       "      <td>EX_ca2_e</td>\n",
       "      <td>0.0001104</td>\n",
       "      <td>[0.0001049;  0.0001104]</td>\n",
       "      <td>0</td>\n",
       "      <td>0.00%</td>\n",
       "    </tr>\n",
       "    <tr>\n",
       "      <td>cit_e</td>\n",
       "      <td>EX_cit_e</td>\n",
       "      <td>0.0003311</td>\n",
       "      <td>[0;  0.0003311]</td>\n",
       "      <td>6</td>\n",
       "      <td>0.22%</td>\n",
       "    </tr>\n",
       "    <tr>\n",
       "      <td>cl_e</td>\n",
       "      <td>EX_cl_e</td>\n",
       "      <td>0.0001104</td>\n",
       "      <td>[0.0001049;  0.0001104]</td>\n",
       "      <td>0</td>\n",
       "      <td>0.00%</td>\n",
       "    </tr>\n",
       "    <tr>\n",
       "      <td>co2_e</td>\n",
       "      <td>EX_co2_e</td>\n",
       "      <td>0.9028</td>\n",
       "      <td>[0.65;  0.9389]</td>\n",
       "      <td>1</td>\n",
       "      <td>99.78%</td>\n",
       "    </tr>\n",
       "    <tr>\n",
       "      <td>cobalt2_e</td>\n",
       "      <td>EX_cobalt2_e</td>\n",
       "      <td>2.121E-06</td>\n",
       "      <td>[2.015E-06;  2.121E-06]</td>\n",
       "      <td>0</td>\n",
       "      <td>0.00%</td>\n",
       "    </tr>\n",
       "    <tr>\n",
       "      <td>cu2_e</td>\n",
       "      <td>EX_cu2_e</td>\n",
       "      <td>1.503E-05</td>\n",
       "      <td>[1.428E-05;  1.503E-05]</td>\n",
       "      <td>0</td>\n",
       "      <td>0.00%</td>\n",
       "    </tr>\n",
       "    <tr>\n",
       "      <td>fe2_e</td>\n",
       "      <td>EX_fe2_e</td>\n",
       "      <td>0.0001424</td>\n",
       "      <td>[0.0001353;  0.001455]</td>\n",
       "      <td>0</td>\n",
       "      <td>0.00%</td>\n",
       "    </tr>\n",
       "    <tr>\n",
       "      <td>fe3_e</td>\n",
       "      <td>EX_fe3_e</td>\n",
       "      <td>0.0001656</td>\n",
       "      <td>[0;  0.0001656]</td>\n",
       "      <td>0</td>\n",
       "      <td>0.00%</td>\n",
       "    </tr>\n",
       "    <tr>\n",
       "      <td>h2o_e</td>\n",
       "      <td>EX_h2o_e</td>\n",
       "      <td>0.3049</td>\n",
       "      <td>[0.04921;  0.3552]</td>\n",
       "      <td>0</td>\n",
       "      <td>0.00%</td>\n",
       "    </tr>\n",
       "    <tr>\n",
       "      <td>k_e</td>\n",
       "      <td>EX_k_e</td>\n",
       "      <td>0.004139</td>\n",
       "      <td>[0.003932;  0.004139]</td>\n",
       "      <td>0</td>\n",
       "      <td>0.00%</td>\n",
       "    </tr>\n",
       "    <tr>\n",
       "      <td>mg2_e</td>\n",
       "      <td>EX_mg2_e</td>\n",
       "      <td>0.000184</td>\n",
       "      <td>[0.0001748;  0.000184]</td>\n",
       "      <td>0</td>\n",
       "      <td>0.00%</td>\n",
       "    </tr>\n",
       "    <tr>\n",
       "      <td>mn2_e</td>\n",
       "      <td>EX_mn2_e</td>\n",
       "      <td>1.465E-05</td>\n",
       "      <td>[1.392E-05;  1.465E-05]</td>\n",
       "      <td>0</td>\n",
       "      <td>0.00%</td>\n",
       "    </tr>\n",
       "    <tr>\n",
       "      <td>nh4_e</td>\n",
       "      <td>EX_nh4_e</td>\n",
       "      <td>0.2374</td>\n",
       "      <td>[0.179;  0.2571]</td>\n",
       "      <td>0</td>\n",
       "      <td>0.00%</td>\n",
       "    </tr>\n",
       "    <tr>\n",
       "      <td>photon_e</td>\n",
       "      <td>EX_photon_e</td>\n",
       "      <td>10</td>\n",
       "      <td>[9.5;  10]</td>\n",
       "      <td>0</td>\n",
       "      <td>0.00%</td>\n",
       "    </tr>\n",
       "    <tr>\n",
       "      <td>pi_e</td>\n",
       "      <td>EX_pi_e</td>\n",
       "      <td>0.02091</td>\n",
       "      <td>[0.01987;  0.04253]</td>\n",
       "      <td>0</td>\n",
       "      <td>0.00%</td>\n",
       "    </tr>\n",
       "    <tr>\n",
       "      <td>so4_e</td>\n",
       "      <td>EX_so4_e</td>\n",
       "      <td>0.005315</td>\n",
       "      <td>[0.005049;  0.04188]</td>\n",
       "      <td>0</td>\n",
       "      <td>0.00%</td>\n",
       "    </tr>\n",
       "    <tr>\n",
       "      <td>zn2_e</td>\n",
       "      <td>EX_zn2_e</td>\n",
       "      <td>7.231E-06</td>\n",
       "      <td>[6.87E-06;  7.231E-06]</td>\n",
       "      <td>0</td>\n",
       "      <td>0.00%</td>\n",
       "    </tr>\n",
       "  </tbody>\n",
       "</table><h4>Secretion</h4><table border=\"1\" class=\"dataframe\">\n",
       "  <thead>\n",
       "    <tr style=\"text-align: right;\">\n",
       "      <th>Metabolite</th>\n",
       "      <th>Reaction</th>\n",
       "      <th>Flux</th>\n",
       "      <th>Range</th>\n",
       "      <th>C-Number</th>\n",
       "      <th>C-Flux</th>\n",
       "    </tr>\n",
       "  </thead>\n",
       "  <tbody>\n",
       "    <tr>\n",
       "      <td>12ppd__S_e</td>\n",
       "      <td>EX_12ppd__S_e</td>\n",
       "      <td>0</td>\n",
       "      <td>[-0.01637;  0]</td>\n",
       "      <td>3</td>\n",
       "      <td>0.00%</td>\n",
       "    </tr>\n",
       "    <tr>\n",
       "      <td>LalaDgluMdap_e</td>\n",
       "      <td>EX_LalaDgluMdap_e</td>\n",
       "      <td>0</td>\n",
       "      <td>[-0.001701;  0]</td>\n",
       "      <td>15</td>\n",
       "      <td>0.00%</td>\n",
       "    </tr>\n",
       "    <tr>\n",
       "      <td>acald_e</td>\n",
       "      <td>EX_acald_e</td>\n",
       "      <td>0</td>\n",
       "      <td>[-0.007792;  0]</td>\n",
       "      <td>2</td>\n",
       "      <td>0.00%</td>\n",
       "    </tr>\n",
       "    <tr>\n",
       "      <td>ala__D_e</td>\n",
       "      <td>EX_ala__D_e</td>\n",
       "      <td>0</td>\n",
       "      <td>[-0.013;  0]</td>\n",
       "      <td>3</td>\n",
       "      <td>0.00%</td>\n",
       "    </tr>\n",
       "    <tr>\n",
       "      <td>alaala_e</td>\n",
       "      <td>EX_alaala_e</td>\n",
       "      <td>0</td>\n",
       "      <td>[-0.008072;  0]</td>\n",
       "      <td>6</td>\n",
       "      <td>0.00%</td>\n",
       "    </tr>\n",
       "    <tr>\n",
       "      <td>alltn_e</td>\n",
       "      <td>EX_alltn_e</td>\n",
       "      <td>0</td>\n",
       "      <td>[-0.007892;  0]</td>\n",
       "      <td>8</td>\n",
       "      <td>0.00%</td>\n",
       "    </tr>\n",
       "    <tr>\n",
       "      <td>anhgm_e</td>\n",
       "      <td>EX_anhgm_e</td>\n",
       "      <td>0</td>\n",
       "      <td>[-0.002884;  0]</td>\n",
       "      <td>19</td>\n",
       "      <td>0.00%</td>\n",
       "    </tr>\n",
       "    <tr>\n",
       "      <td>asp__L_e</td>\n",
       "      <td>EX_asp__L_e</td>\n",
       "      <td>0</td>\n",
       "      <td>[-0.02032;  0]</td>\n",
       "      <td>4</td>\n",
       "      <td>0.00%</td>\n",
       "    </tr>\n",
       "    <tr>\n",
       "      <td>dha_e</td>\n",
       "      <td>EX_dha_e</td>\n",
       "      <td>0</td>\n",
       "      <td>[-0.01414;  0]</td>\n",
       "      <td>3</td>\n",
       "      <td>0.00%</td>\n",
       "    </tr>\n",
       "    <tr>\n",
       "      <td>enlipa_e</td>\n",
       "      <td>EX_enlipa_e</td>\n",
       "      <td>0</td>\n",
       "      <td>[-0.0003987;  0]</td>\n",
       "      <td>112</td>\n",
       "      <td>0.00%</td>\n",
       "    </tr>\n",
       "    <tr>\n",
       "      <td>etha_e</td>\n",
       "      <td>EX_etha_e</td>\n",
       "      <td>0</td>\n",
       "      <td>[-0.008499;  0]</td>\n",
       "      <td>2</td>\n",
       "      <td>0.00%</td>\n",
       "    </tr>\n",
       "    <tr>\n",
       "      <td>g3pe_e</td>\n",
       "      <td>EX_g3pe_e</td>\n",
       "      <td>0</td>\n",
       "      <td>[-0.005835;  0]</td>\n",
       "      <td>5</td>\n",
       "      <td>0.00%</td>\n",
       "    </tr>\n",
       "    <tr>\n",
       "      <td>g3pg_e</td>\n",
       "      <td>EX_g3pg_e</td>\n",
       "      <td>0</td>\n",
       "      <td>[-0.00772;  0]</td>\n",
       "      <td>6</td>\n",
       "      <td>0.00%</td>\n",
       "    </tr>\n",
       "    <tr>\n",
       "      <td>glu__L_e</td>\n",
       "      <td>EX_glu__L_e</td>\n",
       "      <td>0</td>\n",
       "      <td>[-0.01245;  0]</td>\n",
       "      <td>5</td>\n",
       "      <td>0.00%</td>\n",
       "    </tr>\n",
       "    <tr>\n",
       "      <td>glyc_e</td>\n",
       "      <td>EX_glyc_e</td>\n",
       "      <td>0</td>\n",
       "      <td>[-0.01319;  0]</td>\n",
       "      <td>3</td>\n",
       "      <td>0.00%</td>\n",
       "    </tr>\n",
       "    <tr>\n",
       "      <td>gm1lipa_e</td>\n",
       "      <td>EX_gm1lipa_e</td>\n",
       "      <td>0</td>\n",
       "      <td>[-0.0003371;  0]</td>\n",
       "      <td>142</td>\n",
       "      <td>0.00%</td>\n",
       "    </tr>\n",
       "    <tr>\n",
       "      <td>h2s_e</td>\n",
       "      <td>EX_h2s_e</td>\n",
       "      <td>0</td>\n",
       "      <td>[-0.03683;  0]</td>\n",
       "      <td>0</td>\n",
       "      <td>0.00%</td>\n",
       "    </tr>\n",
       "    <tr>\n",
       "      <td>h_e</td>\n",
       "      <td>EX_h_e</td>\n",
       "      <td>-0.2066</td>\n",
       "      <td>[-0.248;  0]</td>\n",
       "      <td>0</td>\n",
       "      <td>0.00%</td>\n",
       "    </tr>\n",
       "    <tr>\n",
       "      <td>hco3_e</td>\n",
       "      <td>EX_hco3_e</td>\n",
       "      <td>0</td>\n",
       "      <td>[0;  0.232]</td>\n",
       "      <td>2</td>\n",
       "      <td>0.00%</td>\n",
       "    </tr>\n",
       "    <tr>\n",
       "      <td>hxan_e</td>\n",
       "      <td>EX_hxan_e</td>\n",
       "      <td>0</td>\n",
       "      <td>[-0.007608;  0]</td>\n",
       "      <td>5</td>\n",
       "      <td>0.00%</td>\n",
       "    </tr>\n",
       "    <tr>\n",
       "      <td>inost_e</td>\n",
       "      <td>EX_inost_e</td>\n",
       "      <td>0</td>\n",
       "      <td>[-0.009876;  0]</td>\n",
       "      <td>6</td>\n",
       "      <td>0.00%</td>\n",
       "    </tr>\n",
       "    <tr>\n",
       "      <td>kdo2lipid4_e</td>\n",
       "      <td>EX_kdo2lipid4_e</td>\n",
       "      <td>0</td>\n",
       "      <td>[-0.000558;  0]</td>\n",
       "      <td>84</td>\n",
       "      <td>0.00%</td>\n",
       "    </tr>\n",
       "    <tr>\n",
       "      <td>lipa_cold_e</td>\n",
       "      <td>EX_lipa_cold_e</td>\n",
       "      <td>0</td>\n",
       "      <td>[-0.0004013;  0]</td>\n",
       "      <td>114</td>\n",
       "      <td>0.00%</td>\n",
       "    </tr>\n",
       "    <tr>\n",
       "      <td>lipa_e</td>\n",
       "      <td>EX_lipa_e</td>\n",
       "      <td>0</td>\n",
       "      <td>[-0.0004168;  0]</td>\n",
       "      <td>110</td>\n",
       "      <td>0.00%</td>\n",
       "    </tr>\n",
       "    <tr>\n",
       "      <td>mobd_e</td>\n",
       "      <td>EX_mobd_e</td>\n",
       "      <td>0</td>\n",
       "      <td>[0;  0.442]</td>\n",
       "      <td>0</td>\n",
       "      <td>0.00%</td>\n",
       "    </tr>\n",
       "    <tr>\n",
       "      <td>no3_e</td>\n",
       "      <td>EX_no3_e</td>\n",
       "      <td>0</td>\n",
       "      <td>[0;  0.04652]</td>\n",
       "      <td>0</td>\n",
       "      <td>0.00%</td>\n",
       "    </tr>\n",
       "    <tr>\n",
       "      <td>o2_e</td>\n",
       "      <td>EX_o2_e</td>\n",
       "      <td>-0.943</td>\n",
       "      <td>[-0.9889;  -0.8959]</td>\n",
       "      <td>0</td>\n",
       "      <td>0.00%</td>\n",
       "    </tr>\n",
       "    <tr>\n",
       "      <td>pser__L_e</td>\n",
       "      <td>EX_pser__L_e</td>\n",
       "      <td>0</td>\n",
       "      <td>[-0.02266;  0]</td>\n",
       "      <td>3</td>\n",
       "      <td>0.00%</td>\n",
       "    </tr>\n",
       "    <tr>\n",
       "      <td>pydxn_e</td>\n",
       "      <td>EX_pydxn_e</td>\n",
       "      <td>0</td>\n",
       "      <td>[-0.006646;  0]</td>\n",
       "      <td>8</td>\n",
       "      <td>0.00%</td>\n",
       "    </tr>\n",
       "    <tr>\n",
       "      <td>s_e</td>\n",
       "      <td>EX_s_e</td>\n",
       "      <td>0</td>\n",
       "      <td>[-0.01179;  0]</td>\n",
       "      <td>0</td>\n",
       "      <td>0.00%</td>\n",
       "    </tr>\n",
       "    <tr>\n",
       "      <td>spmd_e</td>\n",
       "      <td>EX_spmd_e</td>\n",
       "      <td>0</td>\n",
       "      <td>[-0.004994;  0]</td>\n",
       "      <td>7</td>\n",
       "      <td>0.00%</td>\n",
       "    </tr>\n",
       "    <tr>\n",
       "      <td>uaagmda_e</td>\n",
       "      <td>EX_uaagmda_e</td>\n",
       "      <td>0</td>\n",
       "      <td>[-0.0005159;  0]</td>\n",
       "      <td>95</td>\n",
       "      <td>0.00%</td>\n",
       "    </tr>\n",
       "    <tr>\n",
       "      <td>udcpo5_e</td>\n",
       "      <td>EX_udcpo5_e</td>\n",
       "      <td>0</td>\n",
       "      <td>[-0.00058;  0]</td>\n",
       "      <td>81</td>\n",
       "      <td>0.00%</td>\n",
       "    </tr>\n",
       "    <tr>\n",
       "      <td>xtsn_e</td>\n",
       "      <td>EX_xtsn_e</td>\n",
       "      <td>0</td>\n",
       "      <td>[-0.006003;  0]</td>\n",
       "      <td>10</td>\n",
       "      <td>0.00%</td>\n",
       "    </tr>\n",
       "    <tr>\n",
       "      <td>2ohph_c</td>\n",
       "      <td>sink_2ohph_c</td>\n",
       "      <td>0</td>\n",
       "      <td>[-0.000966;  0]</td>\n",
       "      <td>46</td>\n",
       "      <td>0.00%</td>\n",
       "    </tr>\n",
       "    <tr>\n",
       "      <td>4hba_c</td>\n",
       "      <td>sink_4hba_c</td>\n",
       "      <td>-4.729E-06</td>\n",
       "      <td>[-4.729E-06;  -4.492E-06]</td>\n",
       "      <td>7</td>\n",
       "      <td>100.00%</td>\n",
       "    </tr>\n",
       "    <tr>\n",
       "      <td>5drib_c</td>\n",
       "      <td>sink_5drib_c</td>\n",
       "      <td>0</td>\n",
       "      <td>[-0.008261;  0]</td>\n",
       "      <td>5</td>\n",
       "      <td>0.00%</td>\n",
       "    </tr>\n",
       "    <tr>\n",
       "      <td>hemeO_c</td>\n",
       "      <td>sink_hemeO_c</td>\n",
       "      <td>0</td>\n",
       "      <td>[-0.0009394;  0]</td>\n",
       "      <td>49</td>\n",
       "      <td>0.00%</td>\n",
       "    </tr>\n",
       "    <tr>\n",
       "      <td>lipopb_c</td>\n",
       "      <td>sink_lipopb_c</td>\n",
       "      <td>0</td>\n",
       "      <td>[-0.001333;  0]</td>\n",
       "      <td>8</td>\n",
       "      <td>0.00%</td>\n",
       "    </tr>\n",
       "    <tr>\n",
       "      <td>mobd_c</td>\n",
       "      <td>sink_mobd_c</td>\n",
       "      <td>0</td>\n",
       "      <td>[-0.442;  0]</td>\n",
       "      <td>0</td>\n",
       "      <td>0.00%</td>\n",
       "    </tr>\n",
       "    <tr>\n",
       "      <td>sheme_c</td>\n",
       "      <td>sink_sheme_c</td>\n",
       "      <td>0</td>\n",
       "      <td>[-0.001194;  0]</td>\n",
       "      <td>42</td>\n",
       "      <td>0.00%</td>\n",
       "    </tr>\n",
       "  </tbody>\n",
       "</table>"
      ],
      "text/plain": [
       "<cobra.summary.model_summary.ModelSummary at 0x7fe13a5437f0>"
      ]
     },
     "execution_count": 13,
     "metadata": {},
     "output_type": "execute_result"
    }
   ],
   "source": [
    "model.optimize()\n",
    "model.summary(fva=0.95)"
   ]
  },
  {
   "cell_type": "markdown",
   "id": "57db499a",
   "metadata": {},
   "source": [
    "## 4.1. FVA para a Via MEP"
   ]
  },
  {
   "cell_type": "code",
   "execution_count": 14,
   "id": "6a5ad149",
   "metadata": {},
   "outputs": [],
   "source": [
    "FVA = cobra.flux_analysis.flux_variability_analysis(model, processes = 8, loopless = True, pfba_factor = 1.1)"
   ]
  },
  {
   "cell_type": "code",
   "execution_count": 15,
   "id": "da7d34ac",
   "metadata": {},
   "outputs": [],
   "source": [
    "MEP_reactions = ['DXPS', 'DXPRIi', 'MEPCT', 'CDPMEK', 'MECDPS',\n",
    "                'MECDPDH_syn', 'IPDPS', 'DMATT',\n",
    "                'GRTT', 'DPPS', 'Growth', 'IPDPS_syn']"
   ]
  },
  {
   "cell_type": "code",
   "execution_count": 16,
   "id": "3c33209b",
   "metadata": {},
   "outputs": [
    {
     "data": {
      "text/html": [
       "<div>\n",
       "<style scoped>\n",
       "    .dataframe tbody tr th:only-of-type {\n",
       "        vertical-align: middle;\n",
       "    }\n",
       "\n",
       "    .dataframe tbody tr th {\n",
       "        vertical-align: top;\n",
       "    }\n",
       "\n",
       "    .dataframe thead th {\n",
       "        text-align: right;\n",
       "    }\n",
       "</style>\n",
       "<table border=\"1\" class=\"dataframe\">\n",
       "  <thead>\n",
       "    <tr style=\"text-align: right;\">\n",
       "      <th></th>\n",
       "      <th>minimum</th>\n",
       "      <th>maximum</th>\n",
       "    </tr>\n",
       "  </thead>\n",
       "  <tbody>\n",
       "    <tr>\n",
       "      <th>DXPS</th>\n",
       "      <td>0.023353</td>\n",
       "      <td>0.023353</td>\n",
       "    </tr>\n",
       "    <tr>\n",
       "      <th>DXPRIi</th>\n",
       "      <td>0.023343</td>\n",
       "      <td>0.023343</td>\n",
       "    </tr>\n",
       "    <tr>\n",
       "      <th>MEPCT</th>\n",
       "      <td>0.023343</td>\n",
       "      <td>0.023343</td>\n",
       "    </tr>\n",
       "    <tr>\n",
       "      <th>CDPMEK</th>\n",
       "      <td>0.023343</td>\n",
       "      <td>0.023343</td>\n",
       "    </tr>\n",
       "    <tr>\n",
       "      <th>MECDPS</th>\n",
       "      <td>0.023343</td>\n",
       "      <td>0.023343</td>\n",
       "    </tr>\n",
       "    <tr>\n",
       "      <th>MECDPDH_syn</th>\n",
       "      <td>0.023343</td>\n",
       "      <td>0.023343</td>\n",
       "    </tr>\n",
       "    <tr>\n",
       "      <th>IPDPS</th>\n",
       "      <td>0.000000</td>\n",
       "      <td>0.000000</td>\n",
       "    </tr>\n",
       "    <tr>\n",
       "      <th>DMATT</th>\n",
       "      <td>0.002123</td>\n",
       "      <td>0.002123</td>\n",
       "    </tr>\n",
       "    <tr>\n",
       "      <th>GRTT</th>\n",
       "      <td>0.002123</td>\n",
       "      <td>0.002123</td>\n",
       "    </tr>\n",
       "    <tr>\n",
       "      <th>DPPS</th>\n",
       "      <td>0.002121</td>\n",
       "      <td>0.002121</td>\n",
       "    </tr>\n",
       "    <tr>\n",
       "      <th>Growth</th>\n",
       "      <td>0.021897</td>\n",
       "      <td>0.021897</td>\n",
       "    </tr>\n",
       "    <tr>\n",
       "      <th>IPDPS_syn</th>\n",
       "      <td>0.000000</td>\n",
       "      <td>0.021220</td>\n",
       "    </tr>\n",
       "  </tbody>\n",
       "</table>\n",
       "</div>"
      ],
      "text/plain": [
       "              minimum   maximum\n",
       "DXPS         0.023353  0.023353\n",
       "DXPRIi       0.023343  0.023343\n",
       "MEPCT        0.023343  0.023343\n",
       "CDPMEK       0.023343  0.023343\n",
       "MECDPS       0.023343  0.023343\n",
       "MECDPDH_syn  0.023343  0.023343\n",
       "IPDPS        0.000000  0.000000\n",
       "DMATT        0.002123  0.002123\n",
       "GRTT         0.002123  0.002123\n",
       "DPPS         0.002121  0.002121\n",
       "Growth       0.021897  0.021897\n",
       "IPDPS_syn    0.000000  0.021220"
      ]
     },
     "execution_count": 16,
     "metadata": {},
     "output_type": "execute_result"
    }
   ],
   "source": [
    "MEP_reacations_FVA = FVA.loc[MEP_reactions]\n",
    "MEP_reacations_FVA"
   ]
  },
  {
   "cell_type": "markdown",
   "id": "400c2268",
   "metadata": {},
   "source": [
    "## 4.1.2. Alteração da Solução Objetivo (1° Restrição de Fenótipo)"
   ]
  },
  {
   "cell_type": "code",
   "execution_count": 17,
   "id": "1996d44a",
   "metadata": {},
   "outputs": [
    {
     "name": "stdout",
     "output_type": "stream",
     "text": [
      "1.0*Growth - 1.0*Growth_reverse_699ae\n",
      "1.0*Growth - 1.0*Growth_reverse_699ae\n",
      "1.0*DMATT - 1.0*DMATT_reverse_3a731\n",
      "1.0*Growth - 1.0*Growth_reverse_699ae\n",
      "1.0*GRTT - 1.0*GRTT_reverse_f3afe\n",
      "1.0*Growth - 1.0*Growth_reverse_699ae\n",
      "1.0*DPPS - 1.0*DPPS_reverse_d6ed6\n",
      "1.0*Growth - 1.0*Growth_reverse_699ae\n"
     ]
    }
   ],
   "source": [
    "solutions = {}\n",
    "objectives = ['Growth','DMATT', 'GRTT', 'DPPS']\n",
    "\n",
    "for objective in objectives:\n",
    "    with model:\n",
    "        model.objective = objective\n",
    "        print(model.objective.expression)\n",
    "        solution = model.optimize()\n",
    "        solutions[objective] = solution.objective_value\n",
    "    print(model.objective.expression)"
   ]
  },
  {
   "cell_type": "code",
   "execution_count": 18,
   "id": "a4cfe9f7",
   "metadata": {},
   "outputs": [
    {
     "data": {
      "text/plain": [
       "{'Growth': 0.02189715598358892,\n",
       " 'DMATT': 0.019320843091334593,\n",
       " 'GRTT': 0.019320843091334593,\n",
       " 'DPPS': 0.011138446767975122}"
      ]
     },
     "execution_count": 18,
     "metadata": {},
     "output_type": "execute_result"
    }
   ],
   "source": [
    "solutions #valor de FBA com a mudança do objetivo para as reações de terpenóides"
   ]
  },
  {
   "cell_type": "markdown",
   "id": "ccd52490",
   "metadata": {},
   "source": [
    "## 4.1.3. Alteração da Solução Objetivo e visuazliação de pFBA"
   ]
  },
  {
   "cell_type": "code",
   "execution_count": 19,
   "id": "3f85e455",
   "metadata": {},
   "outputs": [
    {
     "name": "stdout",
     "output_type": "stream",
     "text": [
      "1.0*DMATT - 1.0*DMATT_reverse_3a731\n",
      "6.67242810957958e-19\n",
      "1.0*Growth - 1.0*Growth_reverse_699ae\n",
      "1.0*GRTT - 1.0*GRTT_reverse_f3afe\n",
      "-1.8174125185489555e-20\n",
      "1.0*Growth - 1.0*Growth_reverse_699ae\n",
      "1.0*DPPS - 1.0*DPPS_reverse_d6ed6\n",
      "-1.2961106951006021e-30\n",
      "1.0*Growth - 1.0*Growth_reverse_699ae\n"
     ]
    }
   ],
   "source": [
    "results_fluxes_growth = {}\n",
    "results_list = {}\n",
    "reactions = ['DMATT','GRTT', 'DPPS']\n",
    "\n",
    "for reaction in reactions:\n",
    "    with model:\n",
    "        model.objective = reaction\n",
    "        print(model.objective.expression)\n",
    "        fba_solution = model.optimize()\n",
    "        pfba_solution = cobra.flux_analysis.parsimonious.pfba(model, fraction_of_optimum= 1.0)\n",
    "        results_list[reaction] = pfba_solution.objective_value\n",
    "        print(pfba_solution.fluxes[\"Growth\"])\n",
    "        results_fluxes_growth[reaction] = pfba_solution.fluxes[\"Growth\"]\n",
    "    print(model.objective.expression)"
   ]
  },
  {
   "cell_type": "code",
   "execution_count": 20,
   "id": "049e2db8",
   "metadata": {},
   "outputs": [
    {
     "data": {
      "text/plain": [
       "{'DMATT': 63.09718969555151,\n",
       " 'GRTT': 63.09718969555314,\n",
       " 'DPPS': 63.81923088462504}"
      ]
     },
     "execution_count": 20,
     "metadata": {},
     "output_type": "execute_result"
    }
   ],
   "source": [
    "results_list # Solução de pFBA"
   ]
  },
  {
   "cell_type": "code",
   "execution_count": 21,
   "id": "13097758",
   "metadata": {},
   "outputs": [
    {
     "data": {
      "text/plain": [
       "{'DMATT': 6.67242810957958e-19,\n",
       " 'GRTT': -1.8174125185489555e-20,\n",
       " 'DPPS': -1.2961106951006021e-30}"
      ]
     },
     "execution_count": 21,
     "metadata": {},
     "output_type": "execute_result"
    }
   ],
   "source": [
    "results_fluxes_growth # O valor de pFBA para o fluxo de Biomassa, iterando para cada uma dessas reações. -> pfba_solution.fluxes[\"Growth\"]"
   ]
  },
  {
   "cell_type": "markdown",
   "id": "39caf18f",
   "metadata": {},
   "source": [
    "## 4.1.3. Alteração da Solução Objetivo e visuazliação de pFBA (2) "
   ]
  },
  {
   "cell_type": "markdown",
   "id": "82903372",
   "metadata": {},
   "source": [
    "#### solution of optimum = 0.2"
   ]
  },
  {
   "cell_type": "code",
   "execution_count": 29,
   "id": "6ac40a84",
   "metadata": {},
   "outputs": [
    {
     "name": "stdout",
     "output_type": "stream",
     "text": [
      "1.0*Growth - 1.0*Growth_reverse_699ae\n",
      "0.004379431196717786\n",
      "1.0*Growth - 1.0*Growth_reverse_699ae\n",
      "1.0*DMATT - 1.0*DMATT_reverse_3a731\n",
      "0.0\n",
      "1.0*Growth - 1.0*Growth_reverse_699ae\n",
      "1.0*GRTT - 1.0*GRTT_reverse_f3afe\n",
      "0.0\n",
      "1.0*Growth - 1.0*Growth_reverse_699ae\n",
      "1.0*DPPS - 1.0*DPPS_reverse_d6ed6\n",
      "0.0\n",
      "1.0*Growth - 1.0*Growth_reverse_699ae\n"
     ]
    }
   ],
   "source": [
    "results_fluxes_growth_fo2 = {}\n",
    "results_list_fo2 = {}\n",
    "reactions = ['Growth','DMATT','GRTT', 'DPPS']\n",
    "\n",
    "for reaction in reactions:\n",
    "    with model:\n",
    "        model.objective = reaction\n",
    "        print(model.objective.expression)\n",
    "        fba_solution = model.optimize()\n",
    "        pfba_solution = cobra.flux_analysis.parsimonious.pfba(model, fraction_of_optimum= 0.2)\n",
    "        results_list_fo2[reaction] = pfba_solution.objective_value\n",
    "        print(pfba_solution.fluxes[\"Growth\"])\n",
    "        results_fluxes_growth_fo2[reaction] = pfba_solution.fluxes[\"Growth\"]\n",
    "    print(model.objective.expression)"
   ]
  },
  {
   "cell_type": "code",
   "execution_count": 30,
   "id": "13fdc4be",
   "metadata": {},
   "outputs": [
    {
     "data": {
      "text/plain": [
       "{'Growth': 12.623092492934301,\n",
       " 'DMATT': 12.554683840749437,\n",
       " 'GRTT': 12.554683840749437,\n",
       " 'DPPS': 12.685185115734908}"
      ]
     },
     "execution_count": 30,
     "metadata": {},
     "output_type": "execute_result"
    }
   ],
   "source": [
    "results_list_fo2"
   ]
  },
  {
   "cell_type": "code",
   "execution_count": 31,
   "id": "b9365d5a",
   "metadata": {},
   "outputs": [
    {
     "data": {
      "text/plain": [
       "{'Growth': 0.004379431196717786, 'DMATT': 0.0, 'GRTT': 0.0, 'DPPS': 0.0}"
      ]
     },
     "execution_count": 31,
     "metadata": {},
     "output_type": "execute_result"
    }
   ],
   "source": [
    "results_fluxes_growth_fo2"
   ]
  },
  {
   "cell_type": "code",
   "execution_count": 27,
   "id": "1e6b4271",
   "metadata": {},
   "outputs": [
    {
     "name": "stdout",
     "output_type": "stream",
     "text": [
      "1.0*Growth - 1.0*Growth_reverse_699ae\n",
      "1.0*Growth - 1.0*Growth_reverse_699ae\n",
      "1.0*DMATT - 1.0*DMATT_reverse_3a731\n",
      "1.0*Growth - 1.0*Growth_reverse_699ae\n",
      "1.0*GRTT - 1.0*GRTT_reverse_f3afe\n",
      "1.0*Growth - 1.0*Growth_reverse_699ae\n",
      "1.0*DPPS - 1.0*DPPS_reverse_d6ed6\n",
      "1.0*Growth - 1.0*Growth_reverse_699ae\n"
     ]
    }
   ],
   "source": [
    "### Exemplo\n",
    "\n",
    "solutions_02 = {}\n",
    "objectives = ['Growth','DMATT', 'GRTT', 'DPPS']\n",
    "\n",
    "for objective in objectives:\n",
    "    with model:\n",
    "        model.objective = objective\n",
    "        print(model.objective.expression)\n",
    "        solution = model.optimize()\n",
    "        solutions_02[objective] = solution.objective_value\n",
    "    print(model.objective.expression)"
   ]
  },
  {
   "cell_type": "code",
   "execution_count": 28,
   "id": "4f9c8b98",
   "metadata": {},
   "outputs": [
    {
     "data": {
      "text/plain": [
       "{'Growth': 0.021897155983588604,\n",
       " 'DMATT': 0.019320843091334906,\n",
       " 'GRTT': 0.019320843091334906,\n",
       " 'DPPS': 0.011138446767975265}"
      ]
     },
     "execution_count": 28,
     "metadata": {},
     "output_type": "execute_result"
    }
   ],
   "source": [
    "solutions_02"
   ]
  },
  {
   "cell_type": "code",
   "execution_count": 32,
   "id": "8a098a14",
   "metadata": {},
   "outputs": [
    {
     "data": {
      "text/html": [
       "<div>\n",
       "<style scoped>\n",
       "    .dataframe tbody tr th:only-of-type {\n",
       "        vertical-align: middle;\n",
       "    }\n",
       "\n",
       "    .dataframe tbody tr th {\n",
       "        vertical-align: top;\n",
       "    }\n",
       "\n",
       "    .dataframe thead th {\n",
       "        text-align: right;\n",
       "    }\n",
       "</style>\n",
       "<table border=\"1\" class=\"dataframe\">\n",
       "  <thead>\n",
       "    <tr style=\"text-align: right;\">\n",
       "      <th></th>\n",
       "      <th>minimum</th>\n",
       "      <th>maximum</th>\n",
       "    </tr>\n",
       "  </thead>\n",
       "  <tbody>\n",
       "    <tr>\n",
       "      <th>Growth</th>\n",
       "      <td>0.021897</td>\n",
       "      <td>0.021897</td>\n",
       "    </tr>\n",
       "    <tr>\n",
       "      <th>DMATT</th>\n",
       "      <td>0.002123</td>\n",
       "      <td>0.002123</td>\n",
       "    </tr>\n",
       "    <tr>\n",
       "      <th>GRTT</th>\n",
       "      <td>0.002123</td>\n",
       "      <td>0.002123</td>\n",
       "    </tr>\n",
       "    <tr>\n",
       "      <th>DPPS</th>\n",
       "      <td>0.002121</td>\n",
       "      <td>0.002121</td>\n",
       "    </tr>\n",
       "  </tbody>\n",
       "</table>\n",
       "</div>"
      ],
      "text/plain": [
       "         minimum   maximum\n",
       "Growth  0.021897  0.021897\n",
       "DMATT   0.002123  0.002123\n",
       "GRTT    0.002123  0.002123\n",
       "DPPS    0.002121  0.002121"
      ]
     },
     "execution_count": 32,
     "metadata": {},
     "output_type": "execute_result"
    }
   ],
   "source": [
    "cobra.flux_analysis.variability.flux_variability_analysis(model, reaction_list=['Growth','DMATT', 'GRTT', 'DPPS'],loopless = True, pfba_factor = 1.1)"
   ]
  },
  {
   "cell_type": "markdown",
   "id": "d5e1c50b",
   "metadata": {},
   "source": [
    "### Observação"
   ]
  },
  {
   "cell_type": "markdown",
   "id": "b32a4de8",
   "metadata": {},
   "source": [
    "Nessa etapa foi observado a presença da 'IPDPS' e da 'IDPS_syn' -> Ambas tiveram anotação diferente neste modelo. Sendo que, ambas apresentam o Fluxo nulo. Sendo assim, foi feita a remoção dessas e novamente a simulação tanto para o FVA e tanto para o pFBA"
   ]
  },
  {
   "cell_type": "markdown",
   "id": "01417b3c",
   "metadata": {},
   "source": [
    "###### Deleção das reações"
   ]
  },
  {
   "cell_type": "code",
   "execution_count": null,
   "id": "946ece89",
   "metadata": {},
   "outputs": [],
   "source": [
    "model.remove_reactions(['IPDPS_syn', 'DMPPS_syn'])"
   ]
  },
  {
   "cell_type": "markdown",
   "id": "4ef04b33",
   "metadata": {},
   "source": [
    "## 4.2. FVA para Via MEP modificada"
   ]
  },
  {
   "cell_type": "code",
   "execution_count": null,
   "id": "bf765772",
   "metadata": {},
   "outputs": [],
   "source": [
    "FVA_rm = cobra.flux_analysis.flux_variability_analysis(model, processes = 8, loopless = True, pfba_factor = 1.1)"
   ]
  },
  {
   "cell_type": "code",
   "execution_count": null,
   "id": "69750806",
   "metadata": {},
   "outputs": [],
   "source": [
    "MEP_reactions_rm = ['DXPS', 'DXPRIi', 'MEPCT', 'CDPMEK', 'MECDPS',\n",
    "                'MECDPDH_syn', 'IPDPS', 'DMATT',\n",
    "                'GRTT', 'DPPS', 'Growth']"
   ]
  },
  {
   "cell_type": "code",
   "execution_count": null,
   "id": "401e2104",
   "metadata": {},
   "outputs": [],
   "source": [
    "MEP_reacations_FVA_rm = FVA.loc[MEP_reactions]\n",
    "MEP_reacations_FVA_rm"
   ]
  },
  {
   "cell_type": "markdown",
   "id": "f32df4b7",
   "metadata": {},
   "source": [
    "## 4.2.2. Alteração da Solução Objetivo (1° Restrição de Fenótipo)"
   ]
  },
  {
   "cell_type": "code",
   "execution_count": null,
   "id": "7c809986",
   "metadata": {},
   "outputs": [],
   "source": [
    "solutions_1 = {}\n",
    "objectives = ['Growth','DMATT', 'GRTT', 'DPPS' ]\n",
    "\n",
    "for objective in objectives:\n",
    "    with model:\n",
    "        model.objective = objective\n",
    "        print(model.objective.expression)\n",
    "        solution = model.optimize()\n",
    "        solutions_1[objective] = solution.objective_value\n",
    "    print(model.objective.expression)"
   ]
  },
  {
   "cell_type": "code",
   "execution_count": null,
   "id": "473534c0",
   "metadata": {},
   "outputs": [],
   "source": [
    "solutions_1 #FBA"
   ]
  },
  {
   "cell_type": "code",
   "execution_count": null,
   "id": "509fc463",
   "metadata": {},
   "outputs": [],
   "source": [
    "results_fluxes_growth_1 = {}\n",
    "results_list_1 = {}\n",
    "reactions = ['DMATT','GRTT', 'DPPS']\n",
    "\n",
    "for reaction in reactions:\n",
    "    with model:\n",
    "        model.objective = reaction\n",
    "        print(model.objective.expression)\n",
    "        fba_solution = model.optimize()\n",
    "        pfba_solution = cobra.flux_analysis.parsimonious.pfba(model, fraction_of_optimum= 0.2)\n",
    "        results_list_1[reaction] = pfba_solution.objective_value\n",
    "        print(pfba_solution.fluxes[\"Growth\"])\n",
    "        results_fluxes_growth_1[reaction] = pfba_solution.fluxes[\"Growth\"]\n",
    "    print(model.objective.expression)"
   ]
  },
  {
   "cell_type": "code",
   "execution_count": null,
   "id": "d4c053d9",
   "metadata": {},
   "outputs": [],
   "source": [
    "results_list_1"
   ]
  },
  {
   "cell_type": "code",
   "execution_count": null,
   "id": "50fc5883",
   "metadata": {},
   "outputs": [],
   "source": [
    "results_fluxes_growth_1"
   ]
  },
  {
   "cell_type": "markdown",
   "id": "8346a1ec",
   "metadata": {},
   "source": [
    "## 4.2.3. Alteração da Solução Objetivo e visuazliação de pFBA"
   ]
  },
  {
   "cell_type": "code",
   "execution_count": null,
   "id": "df81c0a2",
   "metadata": {},
   "outputs": [],
   "source": [
    "results_list_1 = {}\n",
    "reactions = ['DMATT','GRTT', 'DPPS']\n",
    "\n",
    "for reaction in reactions:\n",
    "    with model:\n",
    "        model.objective = reaction\n",
    "        print(model.objective.expression)\n",
    "        fba_solution = model.optimize()\n",
    "        pfba_solution = cobra.flux_analysis.pfba(model, fraction_of_optimum= 1.0)\n",
    "        results_list_1[reaction] = fba_solution.objective_value\n",
    "    print(model.objective.expression)"
   ]
  },
  {
   "cell_type": "code",
   "execution_count": null,
   "id": "0fe16946",
   "metadata": {},
   "outputs": [],
   "source": [
    "results_list_1"
   ]
  },
  {
   "cell_type": "code",
   "execution_count": null,
   "id": "53d9cfb4",
   "metadata": {},
   "outputs": [],
   "source": [
    "results_list_1"
   ]
  },
  {
   "cell_type": "code",
   "execution_count": null,
   "id": "4c0b98f6",
   "metadata": {},
   "outputs": [],
   "source": [
    "### 4.3. Demonstração da alteração da Solução Objetivo com o pFBA para a Reação de Biomassa"
   ]
  },
  {
   "cell_type": "code",
   "execution_count": null,
   "id": "3dbcc608",
   "metadata": {},
   "outputs": [],
   "source": [
    "Lista_pfba_growth = {}\n",
    "reactions_objective = ['DMATT','GRTT','DPPS']\n",
    "\n",
    "for reaction in reactions_objective:\n",
    "    with model:\n",
    "        reactions_objective = cobra.flux_analysis.pfba(model)\n",
    "        Lista_pfba_growth[reaction] = pfba_solution.fluxes['Growth']\n",
    "        \n"
   ]
  },
  {
   "cell_type": "code",
   "execution_count": null,
   "id": "596c5258",
   "metadata": {},
   "outputs": [],
   "source": [
    "Lista_pfba_growth"
   ]
  },
  {
   "cell_type": "markdown",
   "id": "6da928dd",
   "metadata": {},
   "source": [
    "## Mudança na Solução Objetivo para antes da retirada de IDPS_syn"
   ]
  },
  {
   "cell_type": "code",
   "execution_count": null,
   "id": "503d4346",
   "metadata": {},
   "outputs": [],
   "source": [
    "solutions_pfba = {}\n",
    "objectives_pfba = ['Growth','DMATT','GRTT','DPPS']\n",
    "\n",
    "for i_pfba in objectives_pfba:\n",
    "    objectives_pfba = []\n",
    "    cobra.flux_analysis.parsimonious.pfba\n",
    "    "
   ]
  },
  {
   "cell_type": "markdown",
   "id": "9b4c2990",
   "metadata": {},
   "source": [
    "### Inspecionando a Visualização em Gráfico"
   ]
  },
  {
   "cell_type": "markdown",
   "id": "c455feec",
   "metadata": {},
   "source": [
    "### Carregando as Bibliotecas"
   ]
  },
  {
   "cell_type": "code",
   "execution_count": null,
   "id": "7de42d46",
   "metadata": {},
   "outputs": [],
   "source": [
    "\n",
    "import escher\n",
    "from escher import Builder\n",
    "import cobra\n",
    "from time import sleep\n",
    "escher.rc['never_ask_before_quit'] = True"
   ]
  },
  {
   "cell_type": "code",
   "execution_count": null,
   "id": "79c8bd59",
   "metadata": {},
   "outputs": [],
   "source": [
    "builder = Builder(model_json='/mnt/d/Document/Mestrado/Dissertação/Resultados/1_Reconstrução_Metabólica/1_carveme/Jupyter_Notebook_iGBBB/igbb08.json')\n",
    "builder"
   ]
  }
 ],
 "metadata": {
  "kernelspec": {
   "display_name": "Python 3 (ipykernel)",
   "language": "python",
   "name": "python3"
  },
  "language_info": {
   "codemirror_mode": {
    "name": "ipython",
    "version": 3
   },
   "file_extension": ".py",
   "mimetype": "text/x-python",
   "name": "python",
   "nbconvert_exporter": "python",
   "pygments_lexer": "ipython3",
   "version": "3.9.12"
  }
 },
 "nbformat": 4,
 "nbformat_minor": 5
}
