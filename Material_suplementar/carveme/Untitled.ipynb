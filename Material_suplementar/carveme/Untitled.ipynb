{
 "cells": [
  {
   "cell_type": "markdown",
   "id": "19c7c4fc",
   "metadata": {},
   "source": [
    "# Notebook 1 - Explorando o GSM Gemynocystis sp. GBB08 criado com CarveMe"
   ]
  },
  {
   "cell_type": "markdown",
   "id": "42c5fc50",
   "metadata": {},
   "source": [
    "## Apresentação do Notebook"
   ]
  },
  {
   "cell_type": "markdown",
   "id": "d85cdc4b",
   "metadata": {},
   "source": [
    "Neste notebook consta as intervenções no modelo da Geminocystis GBBB08 realizado pelo carveme. Aqui segue uma numeração que irá guiá-lo para as alterações realizadas."
   ]
  },
  {
   "cell_type": "code",
   "execution_count": null,
   "id": "b226c071",
   "metadata": {},
   "outputs": [],
   "source": [
    "import cobra"
   ]
  },
  {
   "cell_type": "code",
   "execution_count": null,
   "id": "77d3494f",
   "metadata": {},
   "outputs": [],
   "source": [
    "import pandas as pd"
   ]
  },
  {
   "cell_type": "markdown",
   "id": "1550d1b3",
   "metadata": {},
   "source": [
    "## 1. Carregando modelo "
   ]
  },
  {
   "cell_type": "code",
   "execution_count": null,
   "id": "65de49c5",
   "metadata": {},
   "outputs": [],
   "source": [
    "model = cobra.io.read_sbml_model('/mnt/d/Document/Mestrado/Dissertação/dissertacao-ufma/Material_suplementar/carveme/model_sbml/iGbb08.xml')\n"
   ]
  },
  {
   "cell_type": "markdown",
   "id": "2b185d16",
   "metadata": {},
   "source": [
    "## 2. Inspecionando o modelo "
   ]
  },
  {
   "cell_type": "code",
   "execution_count": null,
   "id": "60980412",
   "metadata": {},
   "outputs": [],
   "source": [
    "model"
   ]
  },
  {
   "cell_type": "code",
   "execution_count": null,
   "id": "4bbd8074",
   "metadata": {},
   "outputs": [],
   "source": []
  }
 ],
 "metadata": {
  "kernelspec": {
   "display_name": "Python 3 (ipykernel)",
   "language": "python",
   "name": "python3"
  },
  "language_info": {
   "codemirror_mode": {
    "name": "ipython",
    "version": 3
   },
   "file_extension": ".py",
   "mimetype": "text/x-python",
   "name": "python",
   "nbconvert_exporter": "python",
   "pygments_lexer": "ipython3",
   "version": "3.9.12"
  }
 },
 "nbformat": 4,
 "nbformat_minor": 5
}
